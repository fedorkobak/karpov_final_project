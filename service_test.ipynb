{
 "cells": [
  {
   "cell_type": "code",
   "execution_count": 1,
   "metadata": {},
   "outputs": [],
   "source": [
    "from service import (\n",
    "    post_data, \n",
    "    user_features, \n",
    "    load_models\n",
    ")\n",
    "from datetime import datetime"
   ]
  },
  {
   "cell_type": "code",
   "execution_count": 2,
   "metadata": {},
   "outputs": [],
   "source": [
    "user_id = user_features.sample()[\"user_id\"].iloc[0]\n",
    "date = datetime(2021, 10, 5, 10, 30)"
   ]
  },
  {
   "cell_type": "code",
   "execution_count": 3,
   "metadata": {},
   "outputs": [],
   "source": [
    "my_data = user_features.loc[\n",
    "    user_features[\"user_id\"] == user_id\n",
    "].iloc[0].to_dict()"
   ]
  },
  {
   "cell_type": "code",
   "execution_count": 4,
   "metadata": {},
   "outputs": [],
   "source": [
    "predict_data = post_data.copy()\n",
    "\n",
    "for key, value in my_data.items():\n",
    "    predict_data[key] = value"
   ]
  },
  {
   "cell_type": "code",
   "execution_count": 5,
   "metadata": {},
   "outputs": [],
   "source": [
    "predict_data[\"month\"] = date.month\n",
    "predict_data[\"year\"] = date.year\n",
    "predict_data[\"hour\"] = date.hour\n",
    "\n",
    "predict_data[\"gender\"] = predict_data[\"gender\"].astype(\"O\")"
   ]
  },
  {
   "cell_type": "code",
   "execution_count": 6,
   "metadata": {},
   "outputs": [],
   "source": [
    "model = load_models()"
   ]
  },
  {
   "cell_type": "code",
   "execution_count": 7,
   "metadata": {},
   "outputs": [],
   "source": [
    "pred = model.predict_proba(\n",
    "    predict_data[model.feature_names_in_]\n",
    ")[:,0]"
   ]
  },
  {
   "cell_type": "code",
   "execution_count": 8,
   "metadata": {},
   "outputs": [],
   "source": [
    "import numpy as np"
   ]
  },
  {
   "cell_type": "code",
   "execution_count": 10,
   "metadata": {},
   "outputs": [
    {
     "data": {
      "text/plain": [
       "[{'id': 1,\n",
       "  'text': 'UK economy facing major risks\\n\\nThe UK manufacturing sector will continue to face serious challenges over the next two years, the British Chamber of Commerce (BCC) has said.\\n\\nThe groups quarterly survey of companies found exports had picked up in the last three months of 2004 to their best levels in eight years. The rise came despite exchange rates being cited as a major concern. However, the BCC found the whole UK economy still faced major risks and warned that growth is set to slow. It recently forecast economic growth will slow from more than 3% in 2004 to a little below 2.5% in both 2005 and 2006.\\n\\nManufacturers domestic sales growth fell back slightly in the quarter, the survey of 5,196 firms found. Employment in manufacturing also fell and job expectations were at their lowest level for a year.\\n\\nDespite some positive news for the export sector, there are worrying signs for manufacturing, the BCC said. These results reinforce our concern over the sectors persistent inability to sustain recovery. The outlook for the service sector was uncertain despite an increase in exports and orders over the quarter, the BCC noted.\\n\\nThe BCC found confidence increased in the quarter across both the manufacturing and service sectors although overall it failed to reach the levels at the start of 2004. The reduced threat of interest rate increases had contributed to improved confidence, it said. The Bank of England raised interest rates five times between November 2003 and August last year. But rates have been kept on hold since then amid signs of falling consumer confidence and a slowdown in output. The pressure on costs and margins, the relentless increase in regulations, and the threat of higher taxes remain serious problems, BCC director general David Frost said. While consumer spending is set to decelerate significantly over the next 12-18 months, it is unlikely that investment and exports will rise sufficiently strongly to pick up the slack.\\n',\n",
       "  'topic': 'business'},\n",
       " {'id': 4889,\n",
       "  'text': 'This movie starts out very VERY slow, but when the action finally gets started, its a little had to follow. I couldnt understand why some of the events were taking place, and a lot of events happened before they were explained, making them sort of confusing. The only thing it really has going for it is the massive amount of blood/gore it has, although most times the special effects are lacking. Blood looks like red Kool-Aid. Skin tearing sounds like somebody is stepping on a pile of sticks. Again, the story has a sort of amateur feel to it, like the writer didnt take a long time to perfect it. I feel like it could be a much better movie if the effects were done better and more time was taken on the script. I honestly wish I hadnt watched it, not because of the gore, but because I feel that i wasted 90 minutes of my life. If you like extremely gory movies, this is for you, if not, stay away.',\n",
       "  'topic': 'movie'},\n",
       " {'id': 4878,\n",
       "  'text': 'Seriously! Youve just got to see this movie to understand everything that is wrong with it. It came out during the time period where everybody was trying to make family movies that everyone could enjoy (The little rascals; Mr. Nanny, etc.) yet it lacked any charisma or enthusiasm. Every single character in the movie is driven by rage, with the exception of Trixies mother, who shows only aggravation and weariness, possibly at the tired clichés this movie enjoys. To put it simply, the biggest flaw in the film was not the acting, nor the filming, but most notably the writing. The lines we receive are reminiscent of Disney classics, although this film lacks the whole-heartedness IL Walt managed to pull off. Juniors Dad, (John Ritter) makes you mad without even doing anything, simply because he allows Junior to run around unsupervised, and only gives him a stern warning when he tapes a 200-pound behemoth to a chalk board. Also, Juniors grandfather is particularly excruciating. For those of you who saw the first one, found it nauseating, and thus, did not see the second one, Big Ben Healy as he is referred to in this movie, is still a total douche. He basically barges into John Ritters house uninvited, settles himself in Juniors room, even though he says that he hates Junior, and basically does nothing to accelerate the films speed, or to support the film in any way. Rather, he ticks off the audience by being a lazy free loader.Finally, we are introduced to a wide variety of new characters, such as the smug, obnoxious, Trixie, who carries dynamite in her backpack, which she first lights, then hands, to Junior, who simply stares wide eyed at. Also, Gilbert Gottfried returns in this film, this time playing the obnoxious principal at Juniors new elementary school. If Gilbert Gottfried aint enough to get the point across, I will put it simply: This film reeks!2/10 stars, because the actors convictions shine through the film, even though the script sucks.',\n",
       "  'topic': 'movie'},\n",
       " {'id': 4877,\n",
       "  'text': 'This is the slowest film noir film Ive ever seen. Very weak script only provides opportunity for Jack Palance and Rod Steiger to deliver exceptionally well, lines that were made for an acting audition. Palance and Steiger both affirm they are indeed serious actors who can portray their respective roles with power, emotion and drama. The story itself moves at an incredibly slow pace, mostly taking place in a living room. The director obviously moved the actors around in a rythmatic circles as they delivered exhaustingly long lines, to keep the slow pace from becoming noticeable to the audience. The action doesnt pick up until the last ten minutes of the film. If youre one whos looking for more depth in a crime drama, this ones not for you!',\n",
       "  'topic': 'movie'},\n",
       " {'id': 4876,\n",
       "  'text': 'Perhaps I missed something, but I found GOYAS GHOSTS to be a tedious costume melodrama. As to the story it was trying to tell, I found that a confusing mish-mash that went off in all directions. And perhaps it should have been made by a Spanish director with the appropriate languages subtitled rather than in unconvincingly accented English. I cant judge the historical veracity of the story but it seemed to move along with a similar artists models tragic fate plot line as GIRL WITH A PEARL EARRING. Was the movie a commentary on the religious injustices of the Inquisition, false piety, torture then and now, or what???? I never seemed to be able to figure that one out. Natalie Portmans various characters also seemed ridiculously stereotypical. And ultimately the movie was crowned with the concluding melodrama of a disheveled Bardems head and body hanging on the edge of cart heading off into the sunset\\x85with Ines and Goya following along behind\\x85\\x85\\x85Cant Milos Forman do better than that?',\n",
       "  'topic': 'movie'}]"
      ]
     },
     "execution_count": 10,
     "metadata": {},
     "output_type": "execute_result"
    }
   ],
   "source": [
    "post_data.loc[posts].reset_index().apply(lambda row: row.to_dict(), axis = 1).to_list()"
   ]
  }
 ],
 "metadata": {
  "kernelspec": {
   "display_name": "Python 3 (ipykernel)",
   "language": "python",
   "name": "python3"
  },
  "language_info": {
   "codemirror_mode": {
    "name": "ipython",
    "version": 3
   },
   "file_extension": ".py",
   "mimetype": "text/x-python",
   "name": "python",
   "nbconvert_exporter": "python",
   "pygments_lexer": "ipython3",
   "version": "3.10.12"
  }
 },
 "nbformat": 4,
 "nbformat_minor": 4
}
