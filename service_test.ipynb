{
 "cells": [
  {
   "cell_type": "code",
   "execution_count": 1,
   "metadata": {},
   "outputs": [],
   "source": [
    "import requests"
   ]
  },
  {
   "cell_type": "code",
   "execution_count": 10,
   "metadata": {},
   "outputs": [
    {
     "name": "stdout",
     "output_type": "stream",
     "text": [
      "status code 200\n"
     ]
    }
   ],
   "source": [
    "response = requests.get(\"http://localhost:8000/post/recommendations/?id=200&time=2022-10-11T10:10:10\")\n",
    "print(\"status code\", response.status_code)"
   ]
  },
  {
   "cell_type": "code",
   "execution_count": 7,
   "metadata": {},
   "outputs": [
    {
     "data": {
      "text/plain": [
       "200"
      ]
     },
     "execution_count": 7,
     "metadata": {},
     "output_type": "execute_result"
    }
   ],
   "source": []
  },
  {
   "cell_type": "code",
   "execution_count": 8,
   "metadata": {},
   "outputs": [
    {
     "data": {
      "text/plain": [
       "[{'id': 2641,\n",
       "  'text': 'Would the Covid have killed this many people 50 years ago?\\nRead my contribution on that topic:… https://t.co/rXEFjtuXBR',\n",
       "  'topic': 'covid'},\n",
       " {'id': 2980,\n",
       "  'text': 'Big NO on this — lives are more important than football (did I really need to say that?) #COVID19 https://t.co/PDvNvmDsRo',\n",
       "  'topic': 'covid'},\n",
       " {'id': 3391,\n",
       "  'text': 'Recently embarked on this real-time Covid-19 tracking map, that some will find interesting. #coronavirus #covid19… https://t.co/3Wwgva9CEQ',\n",
       "  'topic': 'covid'},\n",
       " {'id': 2480,\n",
       "  'text': '#Gaza is under 2 virus attacks.🙏🇵🇸\\n#COVID19 since 2019 &amp; #ISRAEL Occupation since 1948! https://t.co/fieZ2vDlRl',\n",
       "  'topic': 'covid'},\n",
       " {'id': 3763,\n",
       "  'text': '#IndiaFightsCorona:\\n\\n📍 Preventing #COVID19 at Workplaces\\n\\n↗️Make sure your workplace is clean &amp; hygienic.\\n↗️ Regula… https://t.co/hQKIxPeVqh',\n",
       "  'topic': 'covid'}]"
      ]
     },
     "execution_count": 8,
     "metadata": {},
     "output_type": "execute_result"
    }
   ],
   "source": [
    "response.json()"
   ]
  },
  {
   "cell_type": "code",
   "execution_count": 2,
   "metadata": {},
   "outputs": [],
   "source": [
    "from service import recommended_posts"
   ]
  },
  {
   "cell_type": "code",
   "execution_count": 4,
   "metadata": {},
   "outputs": [],
   "source": [
    "from datetime import datetime"
   ]
  },
  {
   "cell_type": "code",
   "execution_count": 5,
   "metadata": {},
   "outputs": [
    {
     "name": "stdout",
     "output_type": "stream",
     "text": [
      "I'm fine\n"
     ]
    },
    {
     "data": {
      "text/plain": [
       "[{'id': 2641,\n",
       "  'text': 'Would the Covid have killed this many people 50 years ago?\\nRead my contribution on that topic:… https://t.co/rXEFjtuXBR',\n",
       "  'topic': 'covid'},\n",
       " {'id': 2980,\n",
       "  'text': 'Big NO on this — lives are more important than football (did I really need to say that?) #COVID19 https://t.co/PDvNvmDsRo',\n",
       "  'topic': 'covid'},\n",
       " {'id': 3391,\n",
       "  'text': 'Recently embarked on this real-time Covid-19 tracking map, that some will find interesting. #coronavirus #covid19… https://t.co/3Wwgva9CEQ',\n",
       "  'topic': 'covid'},\n",
       " {'id': 2434,\n",
       "  'text': 'Washington Nationals pitcher Sean Doolittle puts it in a nutshell for ya:\\nSports are a reward for a functional so… https://t.co/pQS6ulR76e',\n",
       "  'topic': 'covid'},\n",
       " {'id': 3921,\n",
       "  'text': '‘It’s An Honour To Run Against You’ - Kanye West Congratulates Kamala Harris On Democratic VP Nomination… https://t.co/RxqS7phPLx',\n",
       "  'topic': 'covid'}]"
      ]
     },
     "execution_count": 5,
     "metadata": {},
     "output_type": "execute_result"
    }
   ],
   "source": [
    "recommended_posts(200, datetime(2022, 10, 5))"
   ]
  },
  {
   "cell_type": "code",
   "execution_count": 42,
   "metadata": {},
   "outputs": [],
   "source": [
    "from service import user_features"
   ]
  },
  {
   "cell_type": "code",
   "execution_count": 49,
   "metadata": {},
   "outputs": [
    {
     "data": {
      "text/html": [
       "<div>\n",
       "<style scoped>\n",
       "    .dataframe tbody tr th:only-of-type {\n",
       "        vertical-align: middle;\n",
       "    }\n",
       "\n",
       "    .dataframe tbody tr th {\n",
       "        vertical-align: top;\n",
       "    }\n",
       "\n",
       "    .dataframe thead th {\n",
       "        text-align: right;\n",
       "    }\n",
       "</style>\n",
       "<table border=\"1\" class=\"dataframe\">\n",
       "  <thead>\n",
       "    <tr style=\"text-align: right;\">\n",
       "      <th></th>\n",
       "      <th>user_id</th>\n",
       "      <th>gender</th>\n",
       "      <th>age</th>\n",
       "      <th>country</th>\n",
       "      <th>city</th>\n",
       "      <th>exp_group</th>\n",
       "      <th>os</th>\n",
       "      <th>source</th>\n",
       "    </tr>\n",
       "  </thead>\n",
       "  <tbody>\n",
       "    <tr>\n",
       "      <th>0</th>\n",
       "      <td>200</td>\n",
       "      <td>1</td>\n",
       "      <td>34</td>\n",
       "      <td>Russia</td>\n",
       "      <td>Degtyarsk</td>\n",
       "      <td>3</td>\n",
       "      <td>Android</td>\n",
       "      <td>ads</td>\n",
       "    </tr>\n",
       "  </tbody>\n",
       "</table>\n",
       "</div>"
      ],
      "text/plain": [
       "   user_id  gender  age country       city  exp_group       os source\n",
       "0      200       1   34  Russia  Degtyarsk          3  Android    ads"
      ]
     },
     "execution_count": 49,
     "metadata": {},
     "output_type": "execute_result"
    }
   ],
   "source": [
    "user_features.loc[\n",
    "    user_features[\"user_id\"] == 200\n",
    "]"
   ]
  }
 ],
 "metadata": {
  "kernelspec": {
   "display_name": "Python 3 (ipykernel)",
   "language": "python",
   "name": "python3"
  },
  "language_info": {
   "codemirror_mode": {
    "name": "ipython",
    "version": 3
   },
   "file_extension": ".py",
   "mimetype": "text/x-python",
   "name": "python",
   "nbconvert_exporter": "python",
   "pygments_lexer": "ipython3",
   "version": "3.10.12"
  }
 },
 "nbformat": 4,
 "nbformat_minor": 4
}
