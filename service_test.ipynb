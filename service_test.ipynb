{
 "cells": [
  {
   "cell_type": "code",
   "execution_count": 1,
   "metadata": {},
   "outputs": [],
   "source": [
    "import requests"
   ]
  },
  {
   "cell_type": "code",
   "execution_count": 2,
   "metadata": {},
   "outputs": [
    {
     "name": "stdout",
     "output_type": "stream",
     "text": [
      "status code 200\n",
      "content [{'id': 958, 'text': 'Boris opposes mayor apology\\n\\nKen Livingstone should stick to his guns and not apologise for his Nazi comment to a Jewish reporter, Tory MP Boris Johnson has insisted.\\n\\nMr Johnson also claimed Tony Blairs intervention in the row was an attempt to reassure Jewish voters. London mayor Mr Livingstone says he is standing by his remarks which likened an Evening Standard journalist to a concentration camp guard. But the prime minister says it is time for Mr Livingstone to say sorry.\\n\\nLabours Mr Livingstone has said his comments may have been offensive but were not racist, and said earlier this week he would not apologise even if Mr Blair asked. Later the prime minister said: A lot of us in politics get angry with journalists from time to time, but in the circumstances, and to the journalist because he was a Jewish journalist, yes, he should apologise.\\n\\nHowever, Mr Johnson, who was forced to apologise last year for an article in the magazine he edits about Liverpudlians grieving over the death of British hostage Ken Bigley, said Mr Blair should butt out of the row. I dont see why the prime minister has to get involved in this, The Spectator editor told BBC Radio 4s Today programme. Its a dispute between Ken Livingstone and a reporter on the Evening Standard. Mr Johnson, MP for Henley-on-Thames, Oxfordshire, said he suspected Labour was now trying to reassure Jewish voters because of this curious way in which Labour seems to be trying to curry favour with disillusioned Muslim voters who may be disillusioned about the war.\\n\\nKen doesnt think hes got anything to say sorry for and if thats really his feeling, then I think that he should stick to his guns, he said. Mr Johnson apologised last October for perpetuating an outdated stereotype of Liverpool in the leader article on the death of Mr Bigley. The article in the magazine suggested grieving Liverpudlians were wallowing in their victim status. It also attributed blame to drunken Liverpool football fans for the 1989 Hillsborough disaster in which 96 died. Mr Johnson told Today: Its perfectly true that I got into the grovelling game myself and when I apologised there were some things that I felt I ought to say sorry for ... there were also other things I didnt think I should apologise for, he said. But heres old Ken - hes been crass, hes been insensitive and thuggish and brutal in his language - but I dont think actually if you read what he said, although it was extraordinary and rude, I dont think he was actually anti-Semitic.\\n', 'topic': 'politics'}, {'id': 7296, 'text': 'i LOVED IT and was SO shattered that there not making another season!!! i wish they would! it was the best show ever!!!!!! theres probably not any chance of them deciding to not cancel the show is there! ha ha i wish there was though! i would be so so excited!! i really would! I miss it! and was especially shattered not to know what happens to Jason!! i think they should make another one.... it i also think its silly that u have to writr ten lines to post a comment.. it makes your comment drag on..and no one will read it!! i really want to know what would have happened between jason and nicole... maybe they could make a spin off!!', 'topic': 'movie'}, {'id': 6258, 'text': 'I rented this movie from my local library and thought it might be good considering I like this type of movie and considering who was in it but boy was I wrong. The acting stunk, the fight scenes were just as bad and they got a couple of known people to be in it but didnt cast anyone with acting ability to play the lead? I noticed some people gave it a 10. Why would you ever consider giving this pile of horse **** a 10. You can say its worth a 10 for the sheer comedy of it but when you vote on a movie thats not supposed to be a comedy you cant give it a 10 for comedy. You have to rate it on what it was supposed to actually be like and not for something the director wasnt intending. Maybe some of you voted 10 cause you thought it would be funny to have this crappy movie have a high rating so that people would go out and rent or buy it cause you think its fun to mislead people. Youre playing with peoples time and money which you have no right to do. If the movie sucked give it a bad rating if it was good give it a good rating but dont lie. I gave this movie a 4 and am glad that I was able to check this out for free from my library cause this movie sucked and really isnt worth paying a cent to see.', 'topic': 'movie'}, {'id': 1126, 'text': 'Blunkett tells of love and pain\\n\\nDavid Blunkett has spoken of his love for married publisher Kimberly Quinn for the first time.\\n\\nThe home secretary described how it affected his friends and personal life, but said he was a great believer in personal responsibility. Mr Blunkett is taking legal action to gain access to Mrs Quinns two-year-old son. She denies he is Mr Blunketts. The interview with BBC Radio Sheffield was made before allegations he fast-tracked a visa for Mrs Quinns nanny. The allegations, which he has denied, are being investigated by Sir Alan Budd. Mr Blunkett talked about how he fell in love - but that she resisted his desire to go public.\\n\\nIn an apparent reference to his court action to gain access to her son, he says he was a great believer in responsibility and consequences, even when they were painful. Mr Blunkett told BBC Radio Sheffield: I fell in love with someone and they wouldnt go public and things started to go very badly wrong in the summer, and then the News of the World picked up the story. I tried for three years to make something work. I havent spoken about it and I dont intend to. Even in the biography thats being written about me Ive ensured that theres as little as possible. BBC political correspondent Carole Walker said the timing of the broadcast was unlikely to help his efforts to show that he is concentrating on getting on with the job of home secretary. Shadow home secretary David Davis says Mr Blunkett should quit if he is found to have influenced the visa process even indirectly.\\n\\nReports have claimed Mr Blunkett chaired a meeting to discuss delays in the visa system after he learned of nanny Leoncia Casalmes wait. The Home Office has said it would be up to Sir Alans inquiry to decide if any such meeting was relevant. Home Office minister Fiona Mactaggart said she hoped Mr Blunkett would survive in his job. I work with him every day and I have always been surprised by how focused he is on the job in hand, on working to deal with things, she said. She told BBC Ones Breakfast with Frost programme: He is just really down for the job and I hope he does (survive).\\n', 'topic': 'politics'}, {'id': 975, 'text': 'Blair to face trust issue head on\\n\\nTony Blair says he will be facing the issue of trust and his own integrity head on during the election campaign.\\n\\nDuring a question and answer session with first-time voters on Five News, Mr Blair said he had no option but to confront it by talking to people. He also dismissed claims government plans to get 50% of young people into university would devalue degrees. He was not forcing anyone to go to university, but places should be there for those who wanted them, he said. In answer to a question from 22-year-old Liverpool student David Dunne about concerns over the prime ministers personal integrity, Mr Blair said talking was the only answer. Youve just got to confront it and say to people lets have a discussion on the things that worry you, the things that make you say I cant trust you or I am against you on this. The worst thing in politics was that the electorate only got little snatches of policy from things like Prime Ministers Questions and the news headlines. This was why he wanted to get out of the 30 seconds on the news, he added.\\n\\nBy talking through policies at least people understood the reason for them, even if they did not agree with them, he said. Mr Blair also faced questions about British policy on Iran and its alleged nuclear weapons programme. He insisted there was no plan for an invasion of the country saying: Sometimes people say because of what has happened in Iraq this is the next place. Instead there was a real chance of a peaceful resolution to the problem, he said.\\n', 'topic': 'politics'}]\n"
     ]
    }
   ],
   "source": [
    "response = requests.get(\"http://localhost:8000/post/recommendations/?id=784&time=2022-10-11T10:10:10\")\n",
    "print(\"status code\", response.status_code)\n",
    "print(\"content\", response.json())"
   ]
  }
 ],
 "metadata": {
  "kernelspec": {
   "display_name": "Python 3 (ipykernel)",
   "language": "python",
   "name": "python3"
  },
  "language_info": {
   "codemirror_mode": {
    "name": "ipython",
    "version": 3
   },
   "file_extension": ".py",
   "mimetype": "text/x-python",
   "name": "python",
   "nbconvert_exporter": "python",
   "pygments_lexer": "ipython3",
   "version": "3.10.12"
  }
 },
 "nbformat": 4,
 "nbformat_minor": 4
}
