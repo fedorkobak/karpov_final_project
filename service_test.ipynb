{
 "cells": [
  {
   "cell_type": "code",
   "execution_count": 12,
   "metadata": {},
   "outputs": [],
   "source": [
    "import requests"
   ]
  },
  {
   "cell_type": "code",
   "execution_count": 14,
   "metadata": {},
   "outputs": [
    {
     "name": "stdout",
     "output_type": "stream",
     "text": [
      "status code 200\n",
      "content [{'id': 4779, 'text': 'Shadows and Fog is surely one of Woody Allens weakest films, right up there with September and Hollywood Ending (though nothing Allen has done equals the awfulness of Anything Else).Shadows and Fog is Allens homage to the German Expressionist style of film-making, all stark and stylized light and shadow and...you guessed it.....lots of fog. But you can tell Allen got caught up in the technique and the parody and forgot to make a movie that anyone would care about.Luckily, he made Husbands and Wives the same year, so things werent a total wash for him.Grade: D', 'topic': 'movie'}, {'id': 5249, 'text': 'In 1850 in Yorkshire, a boy chimney-sweep is falsely accused of theft by his crooked master and runs away. He falls into a treacherous local river and is transported into an underwater realm, where he makes many friends and rescues the mythical Water Babies from an evil shark.Based on a book by Charles Kingsley, this is a lovely childrens film, half live-action and half animation, which is both a grim and evocative depiction of Victorian times and a terrifically enjoyable undersea adventure. It really is two films in one, which somehow complement each other and combine into a much richer whole. The animation by Tony Cuthbert, Jack Stokes and Miroslaw Kijowicz is wonderful, as is the photography by Ted Scaife and the music by Phil Coulter and Bill Martin. Pender has a great rough-diamond quality as the (literal) fish out of water - I love the moment when hes on top of the mansion, sees all the chimneys and shouts Blimey !! at the top of his voice. Mason and Cribbins are the filthiest, nastiest bullies you could hope to see in a costume drama (if you want to see real Victorian values, dont watch Sense And Sensibility, watch this), and Whitelaw, Pertwee (who does umpteen voices) and Percival are all excellent. This is how a good childrens movie should be - good old singalong fun, but also just a little bit thoughtful, sad and frightening. High Cockallorum !!', 'topic': 'movie'}, {'id': 7206, 'text': 'and what a combo. Two of the centurys great singers star together in this underrated musical. He writes music, she writes lyrics, and they both work for Basil Rathbone who cant write either because his wife died (actually she just got fat!). Best scene is the pawn shop number where Bing sings an impromptu number while the swing band gets their instruments out of hock. Just wonderful. And this is a rare starring role for Broadway legend, Mary Martin, and shes quite good. Charley Grapewin, John Scott Trotter, William Frawley, Oscar Levant (once again the manic pianist), Charles Lane, and Helen Bertram co-star. And who knew Rathbone could be funny?', 'topic': 'movie'}, {'id': 1837, 'text': 'Ferguson hails Man Utds resolve\\n\\nManchester Uniteds Alex Ferguson has praised his players gutsy performance in the 1-0 win at Aston Villa.\\n\\nThat was our hardest away game of the season and it was a fantastic game of football, end-to-end with lots of good passing, said the Old Trafford boss. We showed lots of character and guts and we werent going to lose. I look at that fixture and think weve been there and won, while Arsenal and Chelsea have yet to come and Villa may have some players back when they do. Ferguson also hailed senior stars Ryan Giggs and Roy Keane, who came off the bench for the injured John OShea. Roy came on and brought a bit of composure to the midfield which we needed and which no other player has got. Giggs was a tremendous threat and he brings tremendous penetration. All we can do is maintain our form, play as we are and well get our rewards.\\n', 'topic': 'sport'}, {'id': 4141, 'text': '#FSB urging #businesses not to miss out on emergency #COVID19 #funding\\n\\nRead our latest #blog at… https://t.co/D2ZniprPeF', 'topic': 'covid'}]\n"
     ]
    }
   ],
   "source": [
    "response = requests.get(\"http://localhost:8000/post/recommendations/?id=200&time=2022-10-11T10:10:10\")\n",
    "print(\"status code\", response.status_code)\n",
    "print(\"content\", response.json())"
   ]
  }
 ],
 "metadata": {
  "kernelspec": {
   "display_name": "Python 3 (ipykernel)",
   "language": "python",
   "name": "python3"
  },
  "language_info": {
   "codemirror_mode": {
    "name": "ipython",
    "version": 3
   },
   "file_extension": ".py",
   "mimetype": "text/x-python",
   "name": "python",
   "nbconvert_exporter": "python",
   "pygments_lexer": "ipython3",
   "version": "3.10.12"
  }
 },
 "nbformat": 4,
 "nbformat_minor": 4
}
