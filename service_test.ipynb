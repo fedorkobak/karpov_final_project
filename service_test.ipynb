{
 "cells": [
  {
   "cell_type": "code",
   "execution_count": 10,
   "metadata": {},
   "outputs": [],
   "source": [
    "import requests"
   ]
  },
  {
   "cell_type": "code",
   "execution_count": 13,
   "metadata": {},
   "outputs": [
    {
     "name": "stdout",
     "output_type": "stream",
     "text": [
      "status code 200\n",
      "content [{'id': 2373, 'text': '@sdward1 I wont stop laughing if all those\\nPricks end up with #COVID19 https://t.co/V7aFlJHh5f', 'topic': 'covid'}, {'id': 3420, 'text': 'Protect all your important files with ease, External storage you can trust. \\nhttps://t.co/VQ6rXTDlF1\\n#HDD… https://t.co/UGcCMMRs64', 'topic': 'covid'}, {'id': 2756, 'text': '#COVID19 My analysis\\n\\nBottom 10 countries with worst recovery rate\\n\\n#coronavirus \\n\\nSource: https://t.co/xmSWoR9mL3 https://t.co/pYowih8vl3', 'topic': 'covid'}, {'id': 3888, 'text': '@KamalaHarris @JoeBiden acceptance speech, walked into a massive empty sports stadium w/message (music -Walk with m… https://t.co/CnFA3DCcfX', 'topic': 'covid'}, {'id': 3622, 'text': 'How #COVID19 compares up with Spanish flu https://t.co/fzyStY9lTA', 'topic': 'covid'}]\n"
     ]
    }
   ],
   "source": [
    "response = requests.get(\"http://localhost:8000/post/recommendations/?id=784&time=2022-10-11T10:10:10\")\n",
    "print(\"status code\", response.status_code)\n",
    "print(\"content\", response.json())"
   ]
  }
 ],
 "metadata": {
  "kernelspec": {
   "display_name": "Python 3 (ipykernel)",
   "language": "python",
   "name": "python3"
  },
  "language_info": {
   "codemirror_mode": {
    "name": "ipython",
    "version": 3
   },
   "file_extension": ".py",
   "mimetype": "text/x-python",
   "name": "python",
   "nbconvert_exporter": "python",
   "pygments_lexer": "ipython3",
   "version": "3.10.12"
  }
 },
 "nbformat": 4,
 "nbformat_minor": 4
}
