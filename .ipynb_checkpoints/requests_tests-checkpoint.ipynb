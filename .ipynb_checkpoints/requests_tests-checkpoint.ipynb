{
 "cells": [
  {
   "cell_type": "markdown",
   "id": "b03da216-8aa6-4d79-9edc-aed9b8e90ce3",
   "metadata": {},
   "source": [
    "# Requests test"
   ]
  },
  {
   "cell_type": "code",
   "execution_count": 1,
   "id": "6f75e36d-33b2-48f5-9c98-824f5319b069",
   "metadata": {},
   "outputs": [],
   "source": [
    "import requests\n",
    "import json\n",
    "import pandas as pd"
   ]
  },
  {
   "cell_type": "markdown",
   "id": "d5091199-4a53-4bcf-8775-c02ea12bcd6c",
   "metadata": {},
   "source": [
    "## user/{id}"
   ]
  },
  {
   "cell_type": "code",
   "execution_count": 3,
   "id": "d0056725-4425-41e6-b012-db16262e6121",
   "metadata": {},
   "outputs": [
    {
     "data": {
      "text/plain": [
       "b'{\"detail\":\"No user with id 1\"}'"
      ]
     },
     "execution_count": 3,
     "metadata": {},
     "output_type": "execute_result"
    }
   ],
   "source": [
    "response = requests.get(\"http://localhost:8000/user/1\")\n",
    "response.content"
   ]
  },
  {
   "cell_type": "code",
   "execution_count": null,
   "id": "4ed6130e-13bf-48c7-8fea-c5a023304dfb",
   "metadata": {},
   "outputs": [],
   "source": [
    "response = requests.get(\"http://localhost:8000/user/500\")\n",
    "response.content"
   ]
  },
  {
   "cell_type": "markdown",
   "id": "8147b8e9-db38-439a-b351-87926440ce46",
   "metadata": {},
   "source": [
    "## post/{id}"
   ]
  },
  {
   "cell_type": "code",
   "execution_count": null,
   "id": "9010d2ed-5fb9-46c0-aae1-87ec0332d31a",
   "metadata": {},
   "outputs": [],
   "source": [
    "response = requests.get(\"http://localhost:8000/post/-1\")\n",
    "response.content"
   ]
  },
  {
   "cell_type": "code",
   "execution_count": null,
   "id": "187b0130-c090-4fc0-80e4-37153af02756",
   "metadata": {},
   "outputs": [],
   "source": [
    "response = requests.get(\"http://localhost:8000/post/1\")\n",
    "response.content"
   ]
  },
  {
   "cell_type": "markdown",
   "id": "0ba60a68-d6e8-4c84-9df9-ebe77f0c8f41",
   "metadata": {},
   "source": [
    "## user/{id}/feed"
   ]
  },
  {
   "cell_type": "code",
   "execution_count": null,
   "id": "4a8e1e13-70ff-419e-862a-fb8ee6b9adf5",
   "metadata": {},
   "outputs": [],
   "source": [
    "response = requests.get(\"http://localhost:8000/user/1/feed\")\n",
    "response.content"
   ]
  },
  {
   "cell_type": "code",
   "execution_count": null,
   "id": "2859611a-dd0e-4bca-8b71-dd72306ee492",
   "metadata": {},
   "outputs": [],
   "source": [
    "response = requests.get(\"http://localhost:8000/user/500/feed\")\n",
    "pd.DataFrame(\n",
    "    json.loads(response.content.decode(\"utf-8\"))\n",
    ")"
   ]
  },
  {
   "cell_type": "code",
   "execution_count": null,
   "id": "87e44928-5431-40e3-9f6f-2609469e55a8",
   "metadata": {},
   "outputs": [],
   "source": [
    "response = requests.get(\"http://localhost:8000/user/500/feed?limit=5\")\n",
    "pd.DataFrame(\n",
    "    json.loads(response.content.decode(\"utf-8\"))\n",
    ")"
   ]
  },
  {
   "cell_type": "markdown",
   "id": "fd255e04-92f2-4b32-aa02-311e2b58d5d8",
   "metadata": {},
   "source": [
    "## post/{id}/feed"
   ]
  },
  {
   "cell_type": "code",
   "execution_count": null,
   "id": "97cc844f-da9f-40e1-9928-185bb549c778",
   "metadata": {},
   "outputs": [],
   "source": [
    "response = requests.get(\"http://localhost:8000/post/1/feed\")\n",
    "pd.DataFrame(\n",
    "    json.loads(response.content.decode(\"utf-8\"))\n",
    ")"
   ]
  },
  {
   "cell_type": "code",
   "execution_count": null,
   "id": "46beaa25-4da7-47ca-aff0-80753a22f547",
   "metadata": {},
   "outputs": [],
   "source": [
    "response = requests.get(\"http://localhost:8000/post/1/feed?limit=1\")\n",
    "pd.DataFrame(\n",
    "    json.loads(response.content.decode(\"utf-8\"))\n",
    ")"
   ]
  },
  {
   "cell_type": "code",
   "execution_count": null,
   "id": "36df48d5-cf7b-4f29-bdcb-b918de92d3ba",
   "metadata": {},
   "outputs": [],
   "source": [
    "response = requests.get(\"http://localhost:8000/post/-1/feed\")\n",
    "response.content"
   ]
  },
  {
   "cell_type": "markdown",
   "id": "af994d14-bb36-4f2f-be56-c11280eedae2",
   "metadata": {},
   "source": [
    "## /post/recommendations/"
   ]
  },
  {
   "cell_type": "code",
   "execution_count": 17,
   "id": "5ca916ee-963f-40f2-8411-838d74e04397",
   "metadata": {},
   "outputs": [
    {
     "data": {
      "text/plain": [
       "[{'id': 4866,\n",
       "  'text': 'It could have been a morbidly fascinating look at the life of one of Americas most notorious serial killers, but sadly it doesnt even come close. Terrible editing, direction, bad acting, you name it. This movie is literally about 10 minutes of plot stretched into 100. The only redeeming quality is Bruce Davidson as the father, but thats not nearly enough to save this stinker. A 1 out of 10.',\n",
       "  'topic': 'movie'},\n",
       " {'id': 5127,\n",
       "  'text': 'Ive seen NSNA just after Ive seen all Roger Moore-films and I must say that it felt so good to see Connery again. He proves for all times that he is the one and only Bond.The film itself isnt really a masterpiece but it is really worth watching. The jokes sit much better here, the effects are funny and interesting, Connery is Connery and Brandauer is really a good villain. But von Sydow is just wasted and the score is not often good and there are a few scenes that seem pretty unnecessary.7/10 \\\\ 2.5/4 \\\\ 3+ (1+ - 6-)',\n",
       "  'topic': 'movie'},\n",
       " {'id': 6448,\n",
       "  'text': 'No, Im not joking around. If you ever, EVER, have the chance to see this movie see it. If you need chop off your arm to see it, see it. Its worth it.Fatty Drives The Bus is unlike any film youve ever seen. It takes trash cinema and elevates it to a work of art. While it contains poor shots, idiotic characters, bad dialogue, strange acting, and cinematography that belongs on public access in Iowa, it actually succeeds in its goal as a film. It strives to be the dumbest, strangest, most inane movie youve ever seen. And boy does it ever succeed.I will lay out the plot for those of you who worry about such things (the filmmakers obviously didnt), but really you neednt pay too much attention because the entire films plot is presented in a very long piece of text played before the opening credits. In any event, FDTB (as its admirers call it) is the story of a bus tour through Chicago, which is led by Satan. You see, Jesus is in town, and all the passengers on the bus are supposed to die, and all their souls would have gone to hell, except with Jesus in town, a lackey in hell calls off the job, and this angers Satan because, well he doesnt like looking like a fool in front of the guy, so he decides to get the people on the bus to sign over their souls to him directly, but hes a devil, so he needs to disguise himself, otherwise, whod go on a tour with him right, so he disguises himself as Roger and he gets on the bus, where the driver is never referred to by name, but he is kind of fat, so I guess hes Fatty. The bus (and the riders) are on a collision course with wackiness!Examples of some lunacy: The title repeats on the screen 3 times. I dont know why. A character appears on the bus in mid-trip without explanation or introduction, and occassionally sits next to the others, and they look at her like she doesnt belong. I dont know why. Two characters fall in love and exchange longing glances, that are really the same shots repeated over and over again. I dont know why. After Satan gives a minute long monologue about transforming into human form a title card flashes Satan is going to transform. I dont know why. One character is a woman who is very obviously a man in drag, and is referred to by other characters as the glamorous Bridget. I dont know why.If there was one good thing that came out of my internship at Troma last summer it was getting my own copy of Fatty Drives The Bus.',\n",
       "  'topic': 'movie'}]"
      ]
     },
     "execution_count": 17,
     "metadata": {},
     "output_type": "execute_result"
    }
   ],
   "source": [
    "response = requests.get(\"http://localhost:8000/post/recommendations/?id=10&limit=3\")\n",
    "json.loads(response.content.decode(\"utf-8\"))"
   ]
  }
 ],
 "metadata": {
  "kernelspec": {
   "display_name": "Python 3 (ipykernel)",
   "language": "python",
   "name": "python3"
  },
  "language_info": {
   "codemirror_mode": {
    "name": "ipython",
    "version": 3
   },
   "file_extension": ".py",
   "mimetype": "text/x-python",
   "name": "python",
   "nbconvert_exporter": "python",
   "pygments_lexer": "ipython3",
   "version": "3.10.6"
  }
 },
 "nbformat": 4,
 "nbformat_minor": 5
}
