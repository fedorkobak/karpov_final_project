{
 "cells": [
  {
   "cell_type": "markdown",
   "metadata": {},
   "source": [
    "# Model"
   ]
  },
  {
   "cell_type": "code",
   "execution_count": 1,
   "metadata": {},
   "outputs": [],
   "source": [
    "import os\n",
    "import sys\n",
    "\n",
    "import pathlib\n",
    "\n",
    "notebook_path = pathlib.Path(os.getcwd())\n",
    "sys.path.append(str(notebook_path.parent))"
   ]
  },
  {
   "cell_type": "code",
   "execution_count": 2,
   "metadata": {},
   "outputs": [],
   "source": [
    "import numpy as np\n",
    "import pandas as pd\n",
    "\n",
    "import pickle\n",
    "\n",
    "from sklearn.compose import ColumnTransformer\n",
    "from sklearn.ensemble import GradientBoostingClassifier\n",
    "from sklearn.feature_extraction.text import TfidfVectorizer\n",
    "from sklearn.preprocessing import (\n",
    "    StandardScaler,\n",
    "    OneHotEncoder\n",
    ")\n",
    "from sklearn.pipeline import Pipeline\n",
    "from sklearn.metrics import roc_auc_score\n",
    "from sklearn.model_selection import (\n",
    "    cross_val_score,\n",
    "    GridSearchCV,\n",
    "    train_test_split\n",
    ") \n",
    "from category_encoders import TargetEncoder\n",
    "\n",
    "from IPython.display import HTML\n",
    "\n",
    "from database import engine"
   ]
  },
  {
   "cell_type": "markdown",
   "metadata": {},
   "source": [
    "## Loading data"
   ]
  },
  {
   "cell_type": "markdown",
   "metadata": {},
   "source": [
    "- We only load records that belong to the `view` category, because every like starts with view, and we have a `target` column that marks those views that lead to likes."
   ]
  },
  {
   "cell_type": "code",
   "execution_count": 3,
   "metadata": {},
   "outputs": [],
   "source": [
    "user_data = pd.read_sql(\n",
    "    \"SELECT * FROM public.user_data;\",\n",
    "    con = engine,\n",
    "    index_col = \"user_id\"\n",
    ")\n",
    "post_data = pd.read_sql(\n",
    "    \"SELECT * FROM public.post_text_df;\",\n",
    "    con = engine,\n",
    "    index_col = \"post_id\"\n",
    ")\n",
    "feed_data = pd.read_sql(\n",
    "    \"SELECT * FROM public.feed_data LIMIT 100;\",\n",
    "    con = engine\n",
    ")"
   ]
  },
  {
   "cell_type": "markdown",
   "metadata": {},
   "source": [
    "Sometimes this frame loads too slowly, so I use a temporary local file that stores the data locally."
   ]
  },
  {
   "cell_type": "raw",
   "metadata": {},
   "source": [
    "# joined data is where each user \n",
    "# is matched with all his actions\n",
    "query = f\"\"\"\n",
    "SELECT \n",
    "    public.feed_data.user_id,\n",
    "    public.feed_data.timestamp,\n",
    "    public.feed_data.target,\n",
    "    public.user_data.gender,\n",
    "    public.user_data.age,\n",
    "    public.user_data.country,\n",
    "    public.user_data.city,\n",
    "    public.user_data.exp_group,\n",
    "    public.user_data.os,\n",
    "    public.user_data.source,\n",
    "    public.post_text_df.text,\n",
    "    public.post_text_df.topic\n",
    "FROM public.feed_data\n",
    "LEFT JOIN public.user_data\n",
    "    ON public.feed_data.user_id = public.user_data.user_id\n",
    "LEFT JOIN public.post_text_df\n",
    "    ON public.feed_data.post_id = public.post_text_df.post_id\n",
    "WHERE\n",
    "    public.feed_data.action='view'\n",
    "LIMIT 600000;\n",
    "\"\"\"\n",
    "joined_data = pd.read_sql(query, con = engine)\n",
    "joined_data.to_parquet(\"preloaded_joined_data.parquet\")"
   ]
  },
  {
   "cell_type": "code",
   "execution_count": 4,
   "metadata": {},
   "outputs": [],
   "source": [
    "joined_data = pd.read_parquet(\n",
    "    \"preloaded_joined_data.parquet\"\n",
    ").sample(100000, random_state=10)"
   ]
  },
  {
   "cell_type": "code",
   "execution_count": 5,
   "metadata": {},
   "outputs": [
    {
     "data": {
      "text/html": [
       "<h3>Users data</h3>"
      ],
      "text/plain": [
       "<IPython.core.display.HTML object>"
      ]
     },
     "metadata": {},
     "output_type": "display_data"
    },
    {
     "data": {
      "text/html": [
       "<div>\n",
       "<style scoped>\n",
       "    .dataframe tbody tr th:only-of-type {\n",
       "        vertical-align: middle;\n",
       "    }\n",
       "\n",
       "    .dataframe tbody tr th {\n",
       "        vertical-align: top;\n",
       "    }\n",
       "\n",
       "    .dataframe thead th {\n",
       "        text-align: right;\n",
       "    }\n",
       "</style>\n",
       "<table border=\"1\" class=\"dataframe\">\n",
       "  <thead>\n",
       "    <tr style=\"text-align: right;\">\n",
       "      <th></th>\n",
       "      <th>gender</th>\n",
       "      <th>age</th>\n",
       "      <th>country</th>\n",
       "      <th>city</th>\n",
       "      <th>exp_group</th>\n",
       "      <th>os</th>\n",
       "      <th>source</th>\n",
       "    </tr>\n",
       "    <tr>\n",
       "      <th>user_id</th>\n",
       "      <th></th>\n",
       "      <th></th>\n",
       "      <th></th>\n",
       "      <th></th>\n",
       "      <th></th>\n",
       "      <th></th>\n",
       "      <th></th>\n",
       "    </tr>\n",
       "  </thead>\n",
       "  <tbody>\n",
       "    <tr>\n",
       "      <th>200</th>\n",
       "      <td>1</td>\n",
       "      <td>34</td>\n",
       "      <td>Russia</td>\n",
       "      <td>Degtyarsk</td>\n",
       "      <td>3</td>\n",
       "      <td>Android</td>\n",
       "      <td>ads</td>\n",
       "    </tr>\n",
       "    <tr>\n",
       "      <th>201</th>\n",
       "      <td>0</td>\n",
       "      <td>37</td>\n",
       "      <td>Russia</td>\n",
       "      <td>Abakan</td>\n",
       "      <td>0</td>\n",
       "      <td>Android</td>\n",
       "      <td>ads</td>\n",
       "    </tr>\n",
       "    <tr>\n",
       "      <th>202</th>\n",
       "      <td>1</td>\n",
       "      <td>17</td>\n",
       "      <td>Russia</td>\n",
       "      <td>Smolensk</td>\n",
       "      <td>4</td>\n",
       "      <td>Android</td>\n",
       "      <td>ads</td>\n",
       "    </tr>\n",
       "    <tr>\n",
       "      <th>203</th>\n",
       "      <td>0</td>\n",
       "      <td>18</td>\n",
       "      <td>Russia</td>\n",
       "      <td>Moscow</td>\n",
       "      <td>1</td>\n",
       "      <td>iOS</td>\n",
       "      <td>ads</td>\n",
       "    </tr>\n",
       "    <tr>\n",
       "      <th>204</th>\n",
       "      <td>0</td>\n",
       "      <td>36</td>\n",
       "      <td>Russia</td>\n",
       "      <td>Anzhero-Sudzhensk</td>\n",
       "      <td>3</td>\n",
       "      <td>Android</td>\n",
       "      <td>ads</td>\n",
       "    </tr>\n",
       "  </tbody>\n",
       "</table>\n",
       "</div>"
      ],
      "text/plain": [
       "         gender  age country               city  exp_group       os source\n",
       "user_id                                                                   \n",
       "200           1   34  Russia          Degtyarsk          3  Android    ads\n",
       "201           0   37  Russia             Abakan          0  Android    ads\n",
       "202           1   17  Russia           Smolensk          4  Android    ads\n",
       "203           0   18  Russia             Moscow          1      iOS    ads\n",
       "204           0   36  Russia  Anzhero-Sudzhensk          3  Android    ads"
      ]
     },
     "metadata": {},
     "output_type": "display_data"
    },
    {
     "data": {
      "text/html": [
       "<h3>Post data</h3>"
      ],
      "text/plain": [
       "<IPython.core.display.HTML object>"
      ]
     },
     "metadata": {},
     "output_type": "display_data"
    },
    {
     "data": {
      "text/html": [
       "<div>\n",
       "<style scoped>\n",
       "    .dataframe tbody tr th:only-of-type {\n",
       "        vertical-align: middle;\n",
       "    }\n",
       "\n",
       "    .dataframe tbody tr th {\n",
       "        vertical-align: top;\n",
       "    }\n",
       "\n",
       "    .dataframe thead th {\n",
       "        text-align: right;\n",
       "    }\n",
       "</style>\n",
       "<table border=\"1\" class=\"dataframe\">\n",
       "  <thead>\n",
       "    <tr style=\"text-align: right;\">\n",
       "      <th></th>\n",
       "      <th>text</th>\n",
       "      <th>topic</th>\n",
       "    </tr>\n",
       "    <tr>\n",
       "      <th>post_id</th>\n",
       "      <th></th>\n",
       "      <th></th>\n",
       "    </tr>\n",
       "  </thead>\n",
       "  <tbody>\n",
       "    <tr>\n",
       "      <th>1</th>\n",
       "      <td>UK economy facing major risks\\n\\nThe UK manufa...</td>\n",
       "      <td>business</td>\n",
       "    </tr>\n",
       "    <tr>\n",
       "      <th>2</th>\n",
       "      <td>Aids and climate top Davos agenda\\n\\nClimate c...</td>\n",
       "      <td>business</td>\n",
       "    </tr>\n",
       "    <tr>\n",
       "      <th>3</th>\n",
       "      <td>Asian quake hits European shares\\n\\nShares in ...</td>\n",
       "      <td>business</td>\n",
       "    </tr>\n",
       "    <tr>\n",
       "      <th>4</th>\n",
       "      <td>India power shares jump on debut\\n\\nShares in ...</td>\n",
       "      <td>business</td>\n",
       "    </tr>\n",
       "    <tr>\n",
       "      <th>5</th>\n",
       "      <td>Lacroix label bought by US firm\\n\\nLuxury good...</td>\n",
       "      <td>business</td>\n",
       "    </tr>\n",
       "  </tbody>\n",
       "</table>\n",
       "</div>"
      ],
      "text/plain": [
       "                                                      text     topic\n",
       "post_id                                                             \n",
       "1        UK economy facing major risks\\n\\nThe UK manufa...  business\n",
       "2        Aids and climate top Davos agenda\\n\\nClimate c...  business\n",
       "3        Asian quake hits European shares\\n\\nShares in ...  business\n",
       "4        India power shares jump on debut\\n\\nShares in ...  business\n",
       "5        Lacroix label bought by US firm\\n\\nLuxury good...  business"
      ]
     },
     "metadata": {},
     "output_type": "display_data"
    },
    {
     "data": {
      "text/html": [
       "<h3>Feed data</h3>"
      ],
      "text/plain": [
       "<IPython.core.display.HTML object>"
      ]
     },
     "metadata": {},
     "output_type": "display_data"
    },
    {
     "data": {
      "text/html": [
       "<div>\n",
       "<style scoped>\n",
       "    .dataframe tbody tr th:only-of-type {\n",
       "        vertical-align: middle;\n",
       "    }\n",
       "\n",
       "    .dataframe tbody tr th {\n",
       "        vertical-align: top;\n",
       "    }\n",
       "\n",
       "    .dataframe thead th {\n",
       "        text-align: right;\n",
       "    }\n",
       "</style>\n",
       "<table border=\"1\" class=\"dataframe\">\n",
       "  <thead>\n",
       "    <tr style=\"text-align: right;\">\n",
       "      <th></th>\n",
       "      <th>timestamp</th>\n",
       "      <th>user_id</th>\n",
       "      <th>post_id</th>\n",
       "      <th>action</th>\n",
       "      <th>target</th>\n",
       "    </tr>\n",
       "  </thead>\n",
       "  <tbody>\n",
       "    <tr>\n",
       "      <th>0</th>\n",
       "      <td>2021-11-29 20:24:55</td>\n",
       "      <td>134897</td>\n",
       "      <td>3109</td>\n",
       "      <td>view</td>\n",
       "      <td>0</td>\n",
       "    </tr>\n",
       "    <tr>\n",
       "      <th>1</th>\n",
       "      <td>2021-11-29 20:26:23</td>\n",
       "      <td>134897</td>\n",
       "      <td>4007</td>\n",
       "      <td>view</td>\n",
       "      <td>0</td>\n",
       "    </tr>\n",
       "    <tr>\n",
       "      <th>2</th>\n",
       "      <td>2021-11-29 20:27:21</td>\n",
       "      <td>134897</td>\n",
       "      <td>6055</td>\n",
       "      <td>view</td>\n",
       "      <td>0</td>\n",
       "    </tr>\n",
       "    <tr>\n",
       "      <th>3</th>\n",
       "      <td>2021-11-29 20:28:22</td>\n",
       "      <td>134897</td>\n",
       "      <td>4869</td>\n",
       "      <td>view</td>\n",
       "      <td>0</td>\n",
       "    </tr>\n",
       "    <tr>\n",
       "      <th>4</th>\n",
       "      <td>2021-11-29 20:30:34</td>\n",
       "      <td>134897</td>\n",
       "      <td>5166</td>\n",
       "      <td>view</td>\n",
       "      <td>0</td>\n",
       "    </tr>\n",
       "  </tbody>\n",
       "</table>\n",
       "</div>"
      ],
      "text/plain": [
       "            timestamp  user_id  post_id action  target\n",
       "0 2021-11-29 20:24:55   134897     3109   view       0\n",
       "1 2021-11-29 20:26:23   134897     4007   view       0\n",
       "2 2021-11-29 20:27:21   134897     6055   view       0\n",
       "3 2021-11-29 20:28:22   134897     4869   view       0\n",
       "4 2021-11-29 20:30:34   134897     5166   view       0"
      ]
     },
     "metadata": {},
     "output_type": "display_data"
    },
    {
     "data": {
      "text/html": [
       "<h3>Joined data</h3>"
      ],
      "text/plain": [
       "<IPython.core.display.HTML object>"
      ]
     },
     "metadata": {},
     "output_type": "display_data"
    },
    {
     "data": {
      "text/html": [
       "<div>\n",
       "<style scoped>\n",
       "    .dataframe tbody tr th:only-of-type {\n",
       "        vertical-align: middle;\n",
       "    }\n",
       "\n",
       "    .dataframe tbody tr th {\n",
       "        vertical-align: top;\n",
       "    }\n",
       "\n",
       "    .dataframe thead th {\n",
       "        text-align: right;\n",
       "    }\n",
       "</style>\n",
       "<table border=\"1\" class=\"dataframe\">\n",
       "  <thead>\n",
       "    <tr style=\"text-align: right;\">\n",
       "      <th></th>\n",
       "      <th>user_id</th>\n",
       "      <th>timestamp</th>\n",
       "      <th>target</th>\n",
       "      <th>gender</th>\n",
       "      <th>age</th>\n",
       "      <th>country</th>\n",
       "      <th>city</th>\n",
       "      <th>exp_group</th>\n",
       "      <th>os</th>\n",
       "      <th>source</th>\n",
       "      <th>text</th>\n",
       "      <th>topic</th>\n",
       "    </tr>\n",
       "  </thead>\n",
       "  <tbody>\n",
       "    <tr>\n",
       "      <th>71213</th>\n",
       "      <td>160438</td>\n",
       "      <td>2021-11-25 17:17:56</td>\n",
       "      <td>0</td>\n",
       "      <td>1</td>\n",
       "      <td>23</td>\n",
       "      <td>Russia</td>\n",
       "      <td>Kaluga</td>\n",
       "      <td>3</td>\n",
       "      <td>iOS</td>\n",
       "      <td>organic</td>\n",
       "      <td>Irish company hit by Iraqi report\\n\\nShares in...</td>\n",
       "      <td>business</td>\n",
       "    </tr>\n",
       "    <tr>\n",
       "      <th>381916</th>\n",
       "      <td>104477</td>\n",
       "      <td>2021-10-21 07:04:56</td>\n",
       "      <td>0</td>\n",
       "      <td>0</td>\n",
       "      <td>23</td>\n",
       "      <td>Russia</td>\n",
       "      <td>Bol’shaya Yelkhovka</td>\n",
       "      <td>2</td>\n",
       "      <td>iOS</td>\n",
       "      <td>ads</td>\n",
       "      <td>this is the 4th movie in the Karate Kid series...</td>\n",
       "      <td>movie</td>\n",
       "    </tr>\n",
       "    <tr>\n",
       "      <th>423558</th>\n",
       "      <td>161074</td>\n",
       "      <td>2021-11-16 15:14:57</td>\n",
       "      <td>0</td>\n",
       "      <td>1</td>\n",
       "      <td>29</td>\n",
       "      <td>Russia</td>\n",
       "      <td>Kirishi</td>\n",
       "      <td>2</td>\n",
       "      <td>Android</td>\n",
       "      <td>organic</td>\n",
       "      <td>The whole town of Blackstone is afraid, becaus...</td>\n",
       "      <td>movie</td>\n",
       "    </tr>\n",
       "    <tr>\n",
       "      <th>62340</th>\n",
       "      <td>113212</td>\n",
       "      <td>2021-11-26 11:27:00</td>\n",
       "      <td>0</td>\n",
       "      <td>1</td>\n",
       "      <td>18</td>\n",
       "      <td>Russia</td>\n",
       "      <td>Kazan</td>\n",
       "      <td>1</td>\n",
       "      <td>Android</td>\n",
       "      <td>organic</td>\n",
       "      <td>I grew up watching, and loving this cartoon ev...</td>\n",
       "      <td>movie</td>\n",
       "    </tr>\n",
       "    <tr>\n",
       "      <th>466131</th>\n",
       "      <td>19018</td>\n",
       "      <td>2021-12-21 19:31:58</td>\n",
       "      <td>0</td>\n",
       "      <td>0</td>\n",
       "      <td>20</td>\n",
       "      <td>Russia</td>\n",
       "      <td>Perm</td>\n",
       "      <td>1</td>\n",
       "      <td>iOS</td>\n",
       "      <td>ads</td>\n",
       "      <td>The Movie is okay. Meaning that I dont regret ...</td>\n",
       "      <td>movie</td>\n",
       "    </tr>\n",
       "  </tbody>\n",
       "</table>\n",
       "</div>"
      ],
      "text/plain": [
       "        user_id           timestamp  target  gender  age country  \\\n",
       "71213    160438 2021-11-25 17:17:56       0       1   23  Russia   \n",
       "381916   104477 2021-10-21 07:04:56       0       0   23  Russia   \n",
       "423558   161074 2021-11-16 15:14:57       0       1   29  Russia   \n",
       "62340    113212 2021-11-26 11:27:00       0       1   18  Russia   \n",
       "466131    19018 2021-12-21 19:31:58       0       0   20  Russia   \n",
       "\n",
       "                       city  exp_group       os   source  \\\n",
       "71213                Kaluga          3      iOS  organic   \n",
       "381916  Bol’shaya Yelkhovka          2      iOS      ads   \n",
       "423558              Kirishi          2  Android  organic   \n",
       "62340                 Kazan          1  Android  organic   \n",
       "466131                 Perm          1      iOS      ads   \n",
       "\n",
       "                                                     text     topic  \n",
       "71213   Irish company hit by Iraqi report\\n\\nShares in...  business  \n",
       "381916  this is the 4th movie in the Karate Kid series...     movie  \n",
       "423558  The whole town of Blackstone is afraid, becaus...     movie  \n",
       "62340   I grew up watching, and loving this cartoon ev...     movie  \n",
       "466131  The Movie is okay. Meaning that I dont regret ...     movie  "
      ]
     },
     "metadata": {},
     "output_type": "display_data"
    }
   ],
   "source": [
    "df_show = {\n",
    "    \"Users data\" : user_data,\n",
    "    \"Post data\" : post_data,\n",
    "    \"Feed data\" : feed_data,\n",
    "    \"Joined data\" : joined_data\n",
    "}\n",
    "\n",
    "for title, df in df_show.items():\n",
    "    display(HTML(f\"<h3>{title}</h3>\"))\n",
    "    display(df.head())"
   ]
  },
  {
   "cell_type": "markdown",
   "metadata": {},
   "source": [
    "## Model pipeline"
   ]
  },
  {
   "cell_type": "code",
   "execution_count": 6,
   "metadata": {},
   "outputs": [],
   "source": [
    "X = joined_data.drop(\"user_id\", axis = 1).copy()\n",
    "\n",
    "y = X[\"target\"]\n",
    "X.drop(\"target\", axis = 1, inplace = True)\n",
    "\n",
    "X[\"month\"] = X[\"timestamp\"].dt.month\n",
    "X[\"year\"] = X[\"timestamp\"].dt.year\n",
    "X[\"hour\"] = X[\"timestamp\"].dt.hour\n",
    "X.drop(\"timestamp\", axis = 1, inplace = True)\n",
    "\n",
    "X['gender'] = X['gender'].astype(\"O\")"
   ]
  },
  {
   "cell_type": "code",
   "execution_count": 7,
   "metadata": {},
   "outputs": [],
   "source": [
    "X_train, X_test, y_train, y_test = train_test_split(\n",
    "    X, y, train_size = 0.8, random_state = 1\n",
    ")"
   ]
  },
  {
   "cell_type": "code",
   "execution_count": 8,
   "metadata": {},
   "outputs": [],
   "source": [
    "numeric_columns = list(X_train.select_dtypes(\"number\").columns)\n",
    "categorical_columns = [\n",
    "    'gender', 'country', 'city', 'os', 'source', 'topic'\n",
    "]\n",
    "cat_nunique = X_train[categorical_columns].nunique()\n",
    "MTE_columns = cat_nunique.index[cat_nunique > 5].to_list()\n",
    "OHE_columns = list(set(categorical_columns) - set(MTE_columns))\n",
    "text_columns = 'text'"
   ]
  },
  {
   "cell_type": "code",
   "execution_count": 9,
   "metadata": {},
   "outputs": [],
   "source": [
    "data_transformer = ColumnTransformer([\n",
    "    (\"stand_scaler\", StandardScaler(), numeric_columns),\n",
    "    (\n",
    "        \"one_hot_encod\", \n",
    "        OneHotEncoder(\n",
    "            categories = list(X_train[OHE_columns].apply(\n",
    "                lambda col: list(col.unique()),\n",
    "                result_type=\"reduce\"\n",
    "            ))\n",
    "        ), \n",
    "        OHE_columns\n",
    "    ),\n",
    "    (\n",
    "        \"mean_target_encoder\", \n",
    "        TargetEncoder(min_samples_leaf = 0.5, smoothing = 0.5), \n",
    "        MTE_columns\n",
    "    ),\n",
    "    (\"tf_idf_vector\", TfidfVectorizer(max_features = 10), text_columns)\n",
    "])"
   ]
  },
  {
   "cell_type": "code",
   "execution_count": 10,
   "metadata": {},
   "outputs": [],
   "source": [
    "pipeline = Pipeline([\n",
    "    (\"transfmer\", data_transformer),\n",
    "    (\"model\", GradientBoostingClassifier())\n",
    "])"
   ]
  },
  {
   "cell_type": "markdown",
   "metadata": {},
   "source": [
    "## Model selection"
   ]
  },
  {
   "cell_type": "raw",
   "metadata": {
    "tags": []
   },
   "source": [
    "param_grid = {\n",
    "    \"model__learning_rate\" : [0.2, 0.4],\n",
    "    \"model__max_depth\" : [2,3,4,5],\n",
    "    \"model__n_estimators\" : [40, 50, 60]\n",
    "}\n",
    "\n",
    "grid_search_result = GridSearchCV(\n",
    "    estimator = pipeline,\n",
    "    param_grid = param_grid,\n",
    "    verbose = 2,\n",
    "    scoring = \"roc_auc\",\n",
    "    return_train_score = True\n",
    ").fit(X_train, y_train)\n",
    "pickle.dump(grid_search_result, open(\"gs_results.pck\", \"wb\"))"
   ]
  },
  {
   "cell_type": "code",
   "execution_count": 72,
   "metadata": {},
   "outputs": [
    {
     "data": {
      "text/plain": [
       "[0.2,\n",
       " 0.2,\n",
       " 0.2,\n",
       " 0.2,\n",
       " 0.2,\n",
       " 0.2,\n",
       " 0.2,\n",
       " 0.2,\n",
       " 0.2,\n",
       " 0.2,\n",
       " 0.2,\n",
       " 0.2,\n",
       " 0.4,\n",
       " 0.4,\n",
       " 0.4,\n",
       " 0.4,\n",
       " 0.4,\n",
       " 0.4,\n",
       " 0.4,\n",
       " 0.4,\n",
       " 0.4,\n",
       " 0.4,\n",
       " 0.4,\n",
       " 0.4]"
      ]
     },
     "execution_count": 72,
     "metadata": {},
     "output_type": "execute_result"
    }
   ],
   "source": [
    "[params[\"model__learning_rate\"] for params in grid_search_result.cv_results_[\"params\"]]"
   ]
  },
  {
   "cell_type": "code",
   "execution_count": 69,
   "metadata": {},
   "outputs": [
    {
     "data": {
      "text/plain": [
       "array([0.62925357, 0.63031134, 0.63142378, 0.63448944, 0.63644889,\n",
       "       0.63738036, 0.63749604, 0.63816681, 0.63941205, 0.63608088,\n",
       "       0.63645266, 0.63728333, 0.63203006, 0.63282309, 0.63343044,\n",
       "       0.63597899, 0.63609428, 0.63751043, 0.6375937 , 0.63790389,\n",
       "       0.63687561, 0.63219754, 0.63114318, 0.63073807])"
      ]
     },
     "execution_count": 69,
     "metadata": {},
     "output_type": "execute_result"
    }
   ],
   "source": [
    "grid_search_result.cv_results_[\"mean_test_score\"]"
   ]
  },
  {
   "cell_type": "code",
   "execution_count": 67,
   "metadata": {},
   "outputs": [
    {
     "data": {
      "text/plain": [
       "array([0.67794671, 0.67988507, 0.68212448, 0.69133564, 0.6964852 ,\n",
       "       0.70056658, 0.71170873, 0.71959733, 0.72660307, 0.74174147,\n",
       "       0.75252677, 0.76218661, 0.68492705, 0.68831817, 0.69109732,\n",
       "       0.70544443, 0.71093296, 0.71699347, 0.73077765, 0.74006491,\n",
       "       0.74902528, 0.76608904, 0.77975474, 0.79254569])"
      ]
     },
     "execution_count": 67,
     "metadata": {},
     "output_type": "execute_result"
    }
   ],
   "source": [
    "grid_search_result.cv_results_[\"mean_train_score\"]"
   ]
  },
  {
   "cell_type": "code",
   "execution_count": 14,
   "metadata": {},
   "outputs": [],
   "source": [
    "grid_search_result = pickle.load(open(\"gs_results.pck\", \"rb\"))\n",
    "\n",
    "best_model = pipeline.set_params(\n",
    "    **grid_search_result.best_params_\n",
    ").fit(X_train, y_train)\n",
    "\n",
    "file_name = \"model.pck\"\n",
    "pickle.dump(best_model, open(file_name, \"wb\"))"
   ]
  },
  {
   "cell_type": "markdown",
   "metadata": {},
   "source": [
    "## Hitrage@5 estimation"
   ]
  },
  {
   "cell_type": "code",
   "execution_count": 63,
   "metadata": {},
   "outputs": [
    {
     "name": "stdout",
     "output_type": "stream",
     "text": [
      "current hitrage@5 0.4947942488844819\n"
     ]
    }
   ],
   "source": [
    "preds_test = pd.Series(\n",
    "    best_model.predict_proba(X_test)[:,1],\n",
    "    index = y_test.index\n",
    ")\n",
    "\n",
    "data_for_estimation = pd.DataFrame({\n",
    "    \"preds\" : preds_test,\n",
    "    \"y\" : y_test,\n",
    "    \"user_id\" : joined_data.loc[y_test.index, \"user_id\"]\n",
    "})\n",
    "\n",
    "hit_rages = (\n",
    "    data_for_estimation.\n",
    "    groupby(\"user_id\").\n",
    "    apply(lambda x: x.nlargest(5, \"preds\")[\"y\"].any() if len(x) >= 5 else None)\n",
    ").dropna().astype(\"int32\")\n",
    "\n",
    "print(\"current hitrage@5\", hit_rages.mean())"
   ]
  }
 ],
 "metadata": {
  "kernelspec": {
   "display_name": "Python 3 (ipykernel)",
   "language": "python",
   "name": "python3"
  },
  "language_info": {
   "codemirror_mode": {
    "name": "ipython",
    "version": 3
   },
   "file_extension": ".py",
   "mimetype": "text/x-python",
   "name": "python",
   "nbconvert_exporter": "python",
   "pygments_lexer": "ipython3",
   "version": "3.10.12"
  }
 },
 "nbformat": 4,
 "nbformat_minor": 4
}
