{
 "cells": [
  {
   "cell_type": "markdown",
   "id": "7d5ac61d-1a90-47e4-aa3e-f914a7b89f92",
   "metadata": {},
   "source": [
    "# Bert ebadings\n",
    "\n",
    "Processing posts text with BERT model."
   ]
  },
  {
   "cell_type": "code",
   "execution_count": 1,
   "id": "c234f03d-b158-41bf-91ed-18e45b1a8980",
   "metadata": {},
   "outputs": [],
   "source": [
    "import os\n",
    "import sys\n",
    "\n",
    "import pathlib\n",
    "\n",
    "notebook_path = pathlib.Path(os.getcwd())\n",
    "sys.path.append(str(notebook_path.parent))"
   ]
  },
  {
   "cell_type": "code",
   "execution_count": 2,
   "id": "8feee6f2-ed99-4b8f-8a36-38b7df7d5b70",
   "metadata": {},
   "outputs": [
    {
     "name": "stderr",
     "output_type": "stream",
     "text": [
      "/home/fedor/Documents/startml_final_project/venv/lib/python3.10/site-packages/transformers/utils/generic.py:441: UserWarning: torch.utils._pytree._register_pytree_node is deprecated. Please use torch.utils._pytree.register_pytree_node instead.\n",
      "  _torch_pytree._register_pytree_node(\n",
      "/home/fedor/Documents/startml_final_project/venv/lib/python3.10/site-packages/transformers/utils/generic.py:309: UserWarning: torch.utils._pytree._register_pytree_node is deprecated. Please use torch.utils._pytree.register_pytree_node instead.\n",
      "  _torch_pytree._register_pytree_node(\n"
     ]
    }
   ],
   "source": [
    "import pandas as pd\n",
    "from database import engine\n",
    "\n",
    "import datasets\n",
    "\n",
    "from transformers import (\n",
    "    BertModel, \n",
    "    AutoTokenizer, \n",
    "    DataCollatorWithPadding\n",
    ") \n",
    "\n",
    "import torch\n",
    "from torch.utils.data import DataLoader\n",
    "\n",
    "from tqdm import tqdm\n",
    "\n",
    "# model that I'll use and tokenizer for it\n",
    "model = BertModel.from_pretrained('bert-base-cased')\n",
    "tokenizer = AutoTokenizer.from_pretrained('bert-base-cased')"
   ]
  },
  {
   "cell_type": "markdown",
   "id": "dfeb496f-dc2e-4c25-8979-0c024fba7bc2",
   "metadata": {},
   "source": [
    "## Data"
   ]
  },
  {
   "cell_type": "markdown",
   "id": "237688a4-50cf-4a50-9867-c81b378083b6",
   "metadata": {},
   "source": [
    "Loading data, tokenization and building of the loader."
   ]
  },
  {
   "cell_type": "code",
   "execution_count": 3,
   "id": "436db257-e225-40a2-b3a8-c53178abceb7",
   "metadata": {},
   "outputs": [
    {
     "data": {
      "application/vnd.jupyter.widget-view+json": {
       "model_id": "1d5b18f23809419d9490510d01fdb306",
       "version_major": 2,
       "version_minor": 0
      },
      "text/plain": [
       "Map:   0%|          | 0/7023 [00:00<?, ? examples/s]"
      ]
     },
     "metadata": {},
     "output_type": "display_data"
    }
   ],
   "source": [
    "post_data = pd.read_sql(\n",
    "    \"SELECT * FROM public.post_text_df;\",\n",
    "    con = engine,\n",
    "    index_col = \"post_id\"\n",
    ")\n",
    "post_data = datasets.Dataset.from_pandas(post_data)\n",
    "\n",
    "def tokenization(batch):\n",
    "    return tokenizer.batch_encode_plus(\n",
    "        batch[\"text\"],\n",
    "        add_special_tokens=True, \n",
    "        return_token_type_ids=False, \n",
    "        truncation=True\n",
    "    )\n",
    "\n",
    "post_data = post_data.map(\n",
    "    tokenization, batched=True\n",
    ")\n",
    "post_data.set_format(\n",
    "    type=\"torch\", \n",
    "    columns=[\"input_ids\", \"attention_mask\"]\n",
    ")\n",
    "\n",
    "loader = DataLoader(\n",
    "    post_data, \n",
    "    batch_size=32, \n",
    "    collate_fn=DataCollatorWithPadding(tokenizer=tokenizer), \n",
    "    pin_memory=True,\n",
    "    shuffle=False\n",
    ")"
   ]
  },
  {
   "cell_type": "markdown",
   "id": "122b2350-7ffa-42ce-9a86-43c24789a845",
   "metadata": {},
   "source": [
    "Let's check how our loader performs:"
   ]
  },
  {
   "cell_type": "code",
   "execution_count": 5,
   "id": "a851639f-84cd-4913-8fef-7e3e48a2d109",
   "metadata": {},
   "outputs": [
    {
     "data": {
      "text/plain": [
       "{'input_ids': tensor([[  101,  1993,  4190,  ...,     0,     0,     0],\n",
       "        [  101, 15386,  1116,  ...,  1300,  1107,   102],\n",
       "        [  101,  3141,   186,  ..., 14099,  8478,   102],\n",
       "        ...,\n",
       "        [  101, 16972, 20647,  ...,     0,     0,     0],\n",
       "        [  101,   137,   188,  ...,     0,     0,     0],\n",
       "        [  101,   144, 22731,  ...,     0,     0,     0]]), 'attention_mask': tensor([[1, 1, 1,  ..., 0, 0, 0],\n",
       "        [1, 1, 1,  ..., 1, 1, 1],\n",
       "        [1, 1, 1,  ..., 1, 1, 1],\n",
       "        ...,\n",
       "        [1, 1, 1,  ..., 0, 0, 0],\n",
       "        [1, 1, 1,  ..., 0, 0, 0],\n",
       "        [1, 1, 1,  ..., 0, 0, 0]])}"
      ]
     },
     "execution_count": 5,
     "metadata": {},
     "output_type": "execute_result"
    }
   ],
   "source": [
    "next(iter(loader))"
   ]
  },
  {
   "cell_type": "markdown",
   "id": "9b123959-503c-4af2-9a1f-20525fc48dc1",
   "metadata": {},
   "source": [
    "## Encoding"
   ]
  },
  {
   "cell_type": "raw",
   "id": "b8c64cff-96e6-4516-a582-a86ea94f4b9b",
   "metadata": {},
   "source": [
    "device = torch.device('cuda:0' if torch.cuda.is_available() else 'cpu')\n",
    "print(device)\n",
    "\n",
    "@torch.inference_mode()\n",
    "def get_embeddings(model, loader, device):\n",
    "    model.to(device)\n",
    "    model.eval()\n",
    "    \n",
    "    total_embeddings = []\n",
    "    labels = []\n",
    "    \n",
    "    for batch in tqdm(loader):\n",
    "\n",
    "        batch = {\n",
    "            key: batch[key].to(device) \n",
    "            for key in ['attention_mask', 'input_ids']\n",
    "        }\n",
    "        \n",
    "        embeddings = model(**batch)['last_hidden_state'][:, 0, :]\n",
    "        total_embeddings.append(embeddings)\n",
    "\n",
    "    return torch.cat(total_embeddings, dim=0)\n",
    "\n",
    "embeddings = get_embeddings(model, loader, device)\n",
    "\n",
    "with open(\"bert embeddings.pck\", \"wb\") as f:\n",
    "    torch.save(embeddings.to(torch.device(\"cpu\")), f)"
   ]
  }
 ],
 "metadata": {
  "kernelspec": {
   "display_name": "Python 3 (ipykernel)",
   "language": "python",
   "name": "python3"
  },
  "language_info": {
   "codemirror_mode": {
    "name": "ipython",
    "version": 3
   },
   "file_extension": ".py",
   "mimetype": "text/x-python",
   "name": "python",
   "nbconvert_exporter": "python",
   "pygments_lexer": "ipython3",
   "version": "3.10.12"
  }
 },
 "nbformat": 4,
 "nbformat_minor": 5
}
