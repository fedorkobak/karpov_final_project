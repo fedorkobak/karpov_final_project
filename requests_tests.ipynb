{
 "cells": [
  {
   "cell_type": "markdown",
   "id": "b03da216-8aa6-4d79-9edc-aed9b8e90ce3",
   "metadata": {},
   "source": [
    "# Requests test"
   ]
  },
  {
   "cell_type": "code",
   "execution_count": 1,
   "id": "6f75e36d-33b2-48f5-9c98-824f5319b069",
   "metadata": {},
   "outputs": [],
   "source": [
    "import requests\n",
    "import json\n",
    "import pandas as pd"
   ]
  },
  {
   "cell_type": "markdown",
   "id": "d5091199-4a53-4bcf-8775-c02ea12bcd6c",
   "metadata": {},
   "source": [
    "## user/{id}"
   ]
  },
  {
   "cell_type": "code",
   "execution_count": 2,
   "id": "d0056725-4425-41e6-b012-db16262e6121",
   "metadata": {},
   "outputs": [
    {
     "data": {
      "text/plain": [
       "b'{\"detail\":\"No user with id 1\"}'"
      ]
     },
     "execution_count": 2,
     "metadata": {},
     "output_type": "execute_result"
    }
   ],
   "source": [
    "response = requests.get(\"http://localhost:8000/user/1\")\n",
    "response.content"
   ]
  },
  {
   "cell_type": "code",
   "execution_count": 3,
   "id": "4ed6130e-13bf-48c7-8fea-c5a023304dfb",
   "metadata": {},
   "outputs": [
    {
     "data": {
      "text/plain": [
       "b'{\"id\":500,\"gender\":1,\"age\":29,\"country\":\"Russia\",\"city\":\"Yakutsk\",\"exp_group\":4,\"os\":\"Android\",\"source\":\"ads\"}'"
      ]
     },
     "execution_count": 3,
     "metadata": {},
     "output_type": "execute_result"
    }
   ],
   "source": [
    "response = requests.get(\"http://localhost:8000/user/500\")\n",
    "response.content"
   ]
  },
  {
   "cell_type": "markdown",
   "id": "8147b8e9-db38-439a-b351-87926440ce46",
   "metadata": {},
   "source": [
    "## post/{id}"
   ]
  },
  {
   "cell_type": "code",
   "execution_count": 4,
   "id": "9010d2ed-5fb9-46c0-aae1-87ec0332d31a",
   "metadata": {},
   "outputs": [
    {
     "data": {
      "text/plain": [
       "b'{\"detail\":\"No post with id -1\"}'"
      ]
     },
     "execution_count": 4,
     "metadata": {},
     "output_type": "execute_result"
    }
   ],
   "source": [
    "response = requests.get(\"http://localhost:8000/post/-1\")\n",
    "response.content"
   ]
  },
  {
   "cell_type": "code",
   "execution_count": 5,
   "id": "187b0130-c090-4fc0-80e4-37153af02756",
   "metadata": {},
   "outputs": [
    {
     "data": {
      "text/plain": [
       "b'{\"id\":1,\"text\":\"UK economy facing major risks\\\\n\\\\nThe UK manufacturing sector will continue to face serious challenges over the next two years, the British Chamber of Commerce (BCC) has said.\\\\n\\\\nThe groups quarterly survey of companies found exports had picked up in the last three months of 2004 to their best levels in eight years. The rise came despite exchange rates being cited as a major concern. However, the BCC found the whole UK economy still faced major risks and warned that growth is set to slow. It recently forecast economic growth will slow from more than 3% in 2004 to a little below 2.5% in both 2005 and 2006.\\\\n\\\\nManufacturers domestic sales growth fell back slightly in the quarter, the survey of 5,196 firms found. Employment in manufacturing also fell and job expectations were at their lowest level for a year.\\\\n\\\\nDespite some positive news for the export sector, there are worrying signs for manufacturing, the BCC said. These results reinforce our concern over the sectors persistent inability to sustain recovery. The outlook for the service sector was uncertain despite an increase in exports and orders over the quarter, the BCC noted.\\\\n\\\\nThe BCC found confidence increased in the quarter across both the manufacturing and service sectors although overall it failed to reach the levels at the start of 2004. The reduced threat of interest rate increases had contributed to improved confidence, it said. The Bank of England raised interest rates five times between November 2003 and August last year. But rates have been kept on hold since then amid signs of falling consumer confidence and a slowdown in output. The pressure on costs and margins, the relentless increase in regulations, and the threat of higher taxes remain serious problems, BCC director general David Frost said. While consumer spending is set to decelerate significantly over the next 12-18 months, it is unlikely that investment and exports will rise sufficiently strongly to pick up the slack.\\\\n\",\"topic\":\"business\"}'"
      ]
     },
     "execution_count": 5,
     "metadata": {},
     "output_type": "execute_result"
    }
   ],
   "source": [
    "response = requests.get(\"http://localhost:8000/post/1\")\n",
    "response.content"
   ]
  },
  {
   "cell_type": "markdown",
   "id": "0ba60a68-d6e8-4c84-9df9-ebe77f0c8f41",
   "metadata": {},
   "source": [
    "## user/{id}/feed"
   ]
  },
  {
   "cell_type": "code",
   "execution_count": 6,
   "id": "4a8e1e13-70ff-419e-862a-fb8ee6b9adf5",
   "metadata": {},
   "outputs": [
    {
     "data": {
      "text/plain": [
       "b'[]'"
      ]
     },
     "execution_count": 6,
     "metadata": {},
     "output_type": "execute_result"
    }
   ],
   "source": [
    "response = requests.get(\"http://localhost:8000/user/1/feed\")\n",
    "response.content"
   ]
  },
  {
   "cell_type": "code",
   "execution_count": 7,
   "id": "2859611a-dd0e-4bca-8b71-dd72306ee492",
   "metadata": {},
   "outputs": [
    {
     "data": {
      "text/html": [
       "<div>\n",
       "<style scoped>\n",
       "    .dataframe tbody tr th:only-of-type {\n",
       "        vertical-align: middle;\n",
       "    }\n",
       "\n",
       "    .dataframe tbody tr th {\n",
       "        vertical-align: top;\n",
       "    }\n",
       "\n",
       "    .dataframe thead th {\n",
       "        text-align: right;\n",
       "    }\n",
       "</style>\n",
       "<table border=\"1\" class=\"dataframe\">\n",
       "  <thead>\n",
       "    <tr style=\"text-align: right;\">\n",
       "      <th></th>\n",
       "      <th>user_id</th>\n",
       "      <th>user</th>\n",
       "      <th>post_id</th>\n",
       "      <th>post</th>\n",
       "      <th>action</th>\n",
       "      <th>time</th>\n",
       "    </tr>\n",
       "  </thead>\n",
       "  <tbody>\n",
       "    <tr>\n",
       "      <th>0</th>\n",
       "      <td>500</td>\n",
       "      <td>{'id': 500, 'gender': 1, 'age': 29, 'country':...</td>\n",
       "      <td>5966</td>\n",
       "      <td>{'id': 5966, 'text': 'Where the Sidewalk Ends ...</td>\n",
       "      <td>view</td>\n",
       "      <td>2022-01-12T16:04:55</td>\n",
       "    </tr>\n",
       "    <tr>\n",
       "      <th>1</th>\n",
       "      <td>500</td>\n",
       "      <td>{'id': 500, 'gender': 1, 'age': 29, 'country':...</td>\n",
       "      <td>6220</td>\n",
       "      <td>{'id': 6220, 'text': 'Okay, I think were all a...</td>\n",
       "      <td>view</td>\n",
       "      <td>2022-01-12T16:04:41</td>\n",
       "    </tr>\n",
       "    <tr>\n",
       "      <th>2</th>\n",
       "      <td>500</td>\n",
       "      <td>{'id': 500, 'gender': 1, 'age': 29, 'country':...</td>\n",
       "      <td>5894</td>\n",
       "      <td>{'id': 5894, 'text': 'This film was excellent ...</td>\n",
       "      <td>view</td>\n",
       "      <td>2022-01-12T16:04:35</td>\n",
       "    </tr>\n",
       "    <tr>\n",
       "      <th>3</th>\n",
       "      <td>500</td>\n",
       "      <td>{'id': 500, 'gender': 1, 'age': 29, 'country':...</td>\n",
       "      <td>6169</td>\n",
       "      <td>{'id': 6169, 'text': 'How many ppl know about ...</td>\n",
       "      <td>view</td>\n",
       "      <td>2022-01-12T16:04:24</td>\n",
       "    </tr>\n",
       "    <tr>\n",
       "      <th>4</th>\n",
       "      <td>500</td>\n",
       "      <td>{'id': 500, 'gender': 1, 'age': 29, 'country':...</td>\n",
       "      <td>6213</td>\n",
       "      <td>{'id': 6213, 'text': 'One Night at McCools is ...</td>\n",
       "      <td>like</td>\n",
       "      <td>2022-01-12T16:04:07</td>\n",
       "    </tr>\n",
       "    <tr>\n",
       "      <th>5</th>\n",
       "      <td>500</td>\n",
       "      <td>{'id': 500, 'gender': 1, 'age': 29, 'country':...</td>\n",
       "      <td>6258</td>\n",
       "      <td>{'id': 6258, 'text': 'I rented this movie from...</td>\n",
       "      <td>view</td>\n",
       "      <td>2022-01-12T16:03:20</td>\n",
       "    </tr>\n",
       "    <tr>\n",
       "      <th>6</th>\n",
       "      <td>500</td>\n",
       "      <td>{'id': 500, 'gender': 1, 'age': 29, 'country':...</td>\n",
       "      <td>6122</td>\n",
       "      <td>{'id': 6122, 'text': 'Of course, how could he....</td>\n",
       "      <td>view</td>\n",
       "      <td>2022-01-12T16:02:27</td>\n",
       "    </tr>\n",
       "    <tr>\n",
       "      <th>7</th>\n",
       "      <td>500</td>\n",
       "      <td>{'id': 500, 'gender': 1, 'age': 29, 'country':...</td>\n",
       "      <td>6146</td>\n",
       "      <td>{'id': 6146, 'text': 'Granted, HOTD 2 is bette...</td>\n",
       "      <td>view</td>\n",
       "      <td>2022-01-12T16:01:43</td>\n",
       "    </tr>\n",
       "    <tr>\n",
       "      <th>8</th>\n",
       "      <td>500</td>\n",
       "      <td>{'id': 500, 'gender': 1, 'age': 29, 'country':...</td>\n",
       "      <td>6203</td>\n",
       "      <td>{'id': 6203, 'text': 'I buy or at least watch ...</td>\n",
       "      <td>like</td>\n",
       "      <td>2022-01-12T16:01:31</td>\n",
       "    </tr>\n",
       "  </tbody>\n",
       "</table>\n",
       "</div>"
      ],
      "text/plain": [
       "   user_id                                               user  post_id  \\\n",
       "0      500  {'id': 500, 'gender': 1, 'age': 29, 'country':...     5966   \n",
       "1      500  {'id': 500, 'gender': 1, 'age': 29, 'country':...     6220   \n",
       "2      500  {'id': 500, 'gender': 1, 'age': 29, 'country':...     5894   \n",
       "3      500  {'id': 500, 'gender': 1, 'age': 29, 'country':...     6169   \n",
       "4      500  {'id': 500, 'gender': 1, 'age': 29, 'country':...     6213   \n",
       "5      500  {'id': 500, 'gender': 1, 'age': 29, 'country':...     6258   \n",
       "6      500  {'id': 500, 'gender': 1, 'age': 29, 'country':...     6122   \n",
       "7      500  {'id': 500, 'gender': 1, 'age': 29, 'country':...     6146   \n",
       "8      500  {'id': 500, 'gender': 1, 'age': 29, 'country':...     6203   \n",
       "\n",
       "                                                post action  \\\n",
       "0  {'id': 5966, 'text': 'Where the Sidewalk Ends ...   view   \n",
       "1  {'id': 6220, 'text': 'Okay, I think were all a...   view   \n",
       "2  {'id': 5894, 'text': 'This film was excellent ...   view   \n",
       "3  {'id': 6169, 'text': 'How many ppl know about ...   view   \n",
       "4  {'id': 6213, 'text': 'One Night at McCools is ...   like   \n",
       "5  {'id': 6258, 'text': 'I rented this movie from...   view   \n",
       "6  {'id': 6122, 'text': 'Of course, how could he....   view   \n",
       "7  {'id': 6146, 'text': 'Granted, HOTD 2 is bette...   view   \n",
       "8  {'id': 6203, 'text': 'I buy or at least watch ...   like   \n",
       "\n",
       "                  time  \n",
       "0  2022-01-12T16:04:55  \n",
       "1  2022-01-12T16:04:41  \n",
       "2  2022-01-12T16:04:35  \n",
       "3  2022-01-12T16:04:24  \n",
       "4  2022-01-12T16:04:07  \n",
       "5  2022-01-12T16:03:20  \n",
       "6  2022-01-12T16:02:27  \n",
       "7  2022-01-12T16:01:43  \n",
       "8  2022-01-12T16:01:31  "
      ]
     },
     "execution_count": 7,
     "metadata": {},
     "output_type": "execute_result"
    }
   ],
   "source": [
    "response = requests.get(\"http://localhost:8000/user/500/feed\")\n",
    "pd.DataFrame(\n",
    "    json.loads(response.content.decode(\"utf-8\"))\n",
    ")"
   ]
  },
  {
   "cell_type": "code",
   "execution_count": 8,
   "id": "87e44928-5431-40e3-9f6f-2609469e55a8",
   "metadata": {},
   "outputs": [
    {
     "data": {
      "text/html": [
       "<div>\n",
       "<style scoped>\n",
       "    .dataframe tbody tr th:only-of-type {\n",
       "        vertical-align: middle;\n",
       "    }\n",
       "\n",
       "    .dataframe tbody tr th {\n",
       "        vertical-align: top;\n",
       "    }\n",
       "\n",
       "    .dataframe thead th {\n",
       "        text-align: right;\n",
       "    }\n",
       "</style>\n",
       "<table border=\"1\" class=\"dataframe\">\n",
       "  <thead>\n",
       "    <tr style=\"text-align: right;\">\n",
       "      <th></th>\n",
       "      <th>user_id</th>\n",
       "      <th>user</th>\n",
       "      <th>post_id</th>\n",
       "      <th>post</th>\n",
       "      <th>action</th>\n",
       "      <th>time</th>\n",
       "    </tr>\n",
       "  </thead>\n",
       "  <tbody>\n",
       "    <tr>\n",
       "      <th>0</th>\n",
       "      <td>500</td>\n",
       "      <td>{'id': 500, 'gender': 1, 'age': 29, 'country':...</td>\n",
       "      <td>5966</td>\n",
       "      <td>{'id': 5966, 'text': 'Where the Sidewalk Ends ...</td>\n",
       "      <td>view</td>\n",
       "      <td>2022-01-12T16:04:55</td>\n",
       "    </tr>\n",
       "    <tr>\n",
       "      <th>1</th>\n",
       "      <td>500</td>\n",
       "      <td>{'id': 500, 'gender': 1, 'age': 29, 'country':...</td>\n",
       "      <td>6220</td>\n",
       "      <td>{'id': 6220, 'text': 'Okay, I think were all a...</td>\n",
       "      <td>view</td>\n",
       "      <td>2022-01-12T16:04:41</td>\n",
       "    </tr>\n",
       "    <tr>\n",
       "      <th>2</th>\n",
       "      <td>500</td>\n",
       "      <td>{'id': 500, 'gender': 1, 'age': 29, 'country':...</td>\n",
       "      <td>5894</td>\n",
       "      <td>{'id': 5894, 'text': 'This film was excellent ...</td>\n",
       "      <td>view</td>\n",
       "      <td>2022-01-12T16:04:35</td>\n",
       "    </tr>\n",
       "    <tr>\n",
       "      <th>3</th>\n",
       "      <td>500</td>\n",
       "      <td>{'id': 500, 'gender': 1, 'age': 29, 'country':...</td>\n",
       "      <td>6169</td>\n",
       "      <td>{'id': 6169, 'text': 'How many ppl know about ...</td>\n",
       "      <td>view</td>\n",
       "      <td>2022-01-12T16:04:24</td>\n",
       "    </tr>\n",
       "    <tr>\n",
       "      <th>4</th>\n",
       "      <td>500</td>\n",
       "      <td>{'id': 500, 'gender': 1, 'age': 29, 'country':...</td>\n",
       "      <td>6213</td>\n",
       "      <td>{'id': 6213, 'text': 'One Night at McCools is ...</td>\n",
       "      <td>like</td>\n",
       "      <td>2022-01-12T16:04:07</td>\n",
       "    </tr>\n",
       "  </tbody>\n",
       "</table>\n",
       "</div>"
      ],
      "text/plain": [
       "   user_id                                               user  post_id  \\\n",
       "0      500  {'id': 500, 'gender': 1, 'age': 29, 'country':...     5966   \n",
       "1      500  {'id': 500, 'gender': 1, 'age': 29, 'country':...     6220   \n",
       "2      500  {'id': 500, 'gender': 1, 'age': 29, 'country':...     5894   \n",
       "3      500  {'id': 500, 'gender': 1, 'age': 29, 'country':...     6169   \n",
       "4      500  {'id': 500, 'gender': 1, 'age': 29, 'country':...     6213   \n",
       "\n",
       "                                                post action  \\\n",
       "0  {'id': 5966, 'text': 'Where the Sidewalk Ends ...   view   \n",
       "1  {'id': 6220, 'text': 'Okay, I think were all a...   view   \n",
       "2  {'id': 5894, 'text': 'This film was excellent ...   view   \n",
       "3  {'id': 6169, 'text': 'How many ppl know about ...   view   \n",
       "4  {'id': 6213, 'text': 'One Night at McCools is ...   like   \n",
       "\n",
       "                  time  \n",
       "0  2022-01-12T16:04:55  \n",
       "1  2022-01-12T16:04:41  \n",
       "2  2022-01-12T16:04:35  \n",
       "3  2022-01-12T16:04:24  \n",
       "4  2022-01-12T16:04:07  "
      ]
     },
     "execution_count": 8,
     "metadata": {},
     "output_type": "execute_result"
    }
   ],
   "source": [
    "response = requests.get(\"http://localhost:8000/user/500/feed?limit=5\")\n",
    "pd.DataFrame(\n",
    "    json.loads(response.content.decode(\"utf-8\"))\n",
    ")"
   ]
  },
  {
   "cell_type": "markdown",
   "id": "fd255e04-92f2-4b32-aa02-311e2b58d5d8",
   "metadata": {},
   "source": [
    "## post/{id}/feed"
   ]
  },
  {
   "cell_type": "code",
   "execution_count": 9,
   "id": "97cc844f-da9f-40e1-9928-185bb549c778",
   "metadata": {},
   "outputs": [
    {
     "data": {
      "text/html": [
       "<div>\n",
       "<style scoped>\n",
       "    .dataframe tbody tr th:only-of-type {\n",
       "        vertical-align: middle;\n",
       "    }\n",
       "\n",
       "    .dataframe tbody tr th {\n",
       "        vertical-align: top;\n",
       "    }\n",
       "\n",
       "    .dataframe thead th {\n",
       "        text-align: right;\n",
       "    }\n",
       "</style>\n",
       "<table border=\"1\" class=\"dataframe\">\n",
       "  <thead>\n",
       "    <tr style=\"text-align: right;\">\n",
       "      <th></th>\n",
       "      <th>user_id</th>\n",
       "      <th>user</th>\n",
       "      <th>post_id</th>\n",
       "      <th>post</th>\n",
       "      <th>action</th>\n",
       "      <th>time</th>\n",
       "    </tr>\n",
       "  </thead>\n",
       "  <tbody>\n",
       "    <tr>\n",
       "      <th>0</th>\n",
       "      <td>108068</td>\n",
       "      <td>{'id': 108068, 'gender': 1, 'age': 16, 'countr...</td>\n",
       "      <td>1</td>\n",
       "      <td>{'id': 1, 'text': 'UK economy facing major ris...</td>\n",
       "      <td>like</td>\n",
       "      <td>2021-10-21T19:52:50</td>\n",
       "    </tr>\n",
       "    <tr>\n",
       "      <th>1</th>\n",
       "      <td>107621</td>\n",
       "      <td>{'id': 107621, 'gender': 0, 'age': 25, 'countr...</td>\n",
       "      <td>1</td>\n",
       "      <td>{'id': 1, 'text': 'UK economy facing major ris...</td>\n",
       "      <td>view</td>\n",
       "      <td>2021-10-21T19:44:25</td>\n",
       "    </tr>\n",
       "    <tr>\n",
       "      <th>2</th>\n",
       "      <td>109506</td>\n",
       "      <td>{'id': 109506, 'gender': 0, 'age': 21, 'countr...</td>\n",
       "      <td>1</td>\n",
       "      <td>{'id': 1, 'text': 'UK economy facing major ris...</td>\n",
       "      <td>view</td>\n",
       "      <td>2021-10-21T19:41:33</td>\n",
       "    </tr>\n",
       "    <tr>\n",
       "      <th>3</th>\n",
       "      <td>3236</td>\n",
       "      <td>{'id': 3236, 'gender': 0, 'age': 19, 'country'...</td>\n",
       "      <td>1</td>\n",
       "      <td>{'id': 1, 'text': 'UK economy facing major ris...</td>\n",
       "      <td>view</td>\n",
       "      <td>2021-10-21T19:25:06</td>\n",
       "    </tr>\n",
       "    <tr>\n",
       "      <th>4</th>\n",
       "      <td>109469</td>\n",
       "      <td>{'id': 109469, 'gender': 0, 'age': 29, 'countr...</td>\n",
       "      <td>1</td>\n",
       "      <td>{'id': 1, 'text': 'UK economy facing major ris...</td>\n",
       "      <td>view</td>\n",
       "      <td>2021-10-21T19:20:58</td>\n",
       "    </tr>\n",
       "    <tr>\n",
       "      <th>5</th>\n",
       "      <td>109337</td>\n",
       "      <td>{'id': 109337, 'gender': 0, 'age': 68, 'countr...</td>\n",
       "      <td>1</td>\n",
       "      <td>{'id': 1, 'text': 'UK economy facing major ris...</td>\n",
       "      <td>view</td>\n",
       "      <td>2021-10-21T19:00:28</td>\n",
       "    </tr>\n",
       "    <tr>\n",
       "      <th>6</th>\n",
       "      <td>691</td>\n",
       "      <td>{'id': 691, 'gender': 0, 'age': 32, 'country':...</td>\n",
       "      <td>1</td>\n",
       "      <td>{'id': 1, 'text': 'UK economy facing major ris...</td>\n",
       "      <td>view</td>\n",
       "      <td>2021-10-21T18:55:21</td>\n",
       "    </tr>\n",
       "    <tr>\n",
       "      <th>7</th>\n",
       "      <td>107532</td>\n",
       "      <td>{'id': 107532, 'gender': 0, 'age': 37, 'countr...</td>\n",
       "      <td>1</td>\n",
       "      <td>{'id': 1, 'text': 'UK economy facing major ris...</td>\n",
       "      <td>view</td>\n",
       "      <td>2021-10-21T18:37:06</td>\n",
       "    </tr>\n",
       "    <tr>\n",
       "      <th>8</th>\n",
       "      <td>2878</td>\n",
       "      <td>{'id': 2878, 'gender': 1, 'age': 43, 'country'...</td>\n",
       "      <td>1</td>\n",
       "      <td>{'id': 1, 'text': 'UK economy facing major ris...</td>\n",
       "      <td>view</td>\n",
       "      <td>2021-10-21T18:33:36</td>\n",
       "    </tr>\n",
       "  </tbody>\n",
       "</table>\n",
       "</div>"
      ],
      "text/plain": [
       "   user_id                                               user  post_id  \\\n",
       "0   108068  {'id': 108068, 'gender': 1, 'age': 16, 'countr...        1   \n",
       "1   107621  {'id': 107621, 'gender': 0, 'age': 25, 'countr...        1   \n",
       "2   109506  {'id': 109506, 'gender': 0, 'age': 21, 'countr...        1   \n",
       "3     3236  {'id': 3236, 'gender': 0, 'age': 19, 'country'...        1   \n",
       "4   109469  {'id': 109469, 'gender': 0, 'age': 29, 'countr...        1   \n",
       "5   109337  {'id': 109337, 'gender': 0, 'age': 68, 'countr...        1   \n",
       "6      691  {'id': 691, 'gender': 0, 'age': 32, 'country':...        1   \n",
       "7   107532  {'id': 107532, 'gender': 0, 'age': 37, 'countr...        1   \n",
       "8     2878  {'id': 2878, 'gender': 1, 'age': 43, 'country'...        1   \n",
       "\n",
       "                                                post action  \\\n",
       "0  {'id': 1, 'text': 'UK economy facing major ris...   like   \n",
       "1  {'id': 1, 'text': 'UK economy facing major ris...   view   \n",
       "2  {'id': 1, 'text': 'UK economy facing major ris...   view   \n",
       "3  {'id': 1, 'text': 'UK economy facing major ris...   view   \n",
       "4  {'id': 1, 'text': 'UK economy facing major ris...   view   \n",
       "5  {'id': 1, 'text': 'UK economy facing major ris...   view   \n",
       "6  {'id': 1, 'text': 'UK economy facing major ris...   view   \n",
       "7  {'id': 1, 'text': 'UK economy facing major ris...   view   \n",
       "8  {'id': 1, 'text': 'UK economy facing major ris...   view   \n",
       "\n",
       "                  time  \n",
       "0  2021-10-21T19:52:50  \n",
       "1  2021-10-21T19:44:25  \n",
       "2  2021-10-21T19:41:33  \n",
       "3  2021-10-21T19:25:06  \n",
       "4  2021-10-21T19:20:58  \n",
       "5  2021-10-21T19:00:28  \n",
       "6  2021-10-21T18:55:21  \n",
       "7  2021-10-21T18:37:06  \n",
       "8  2021-10-21T18:33:36  "
      ]
     },
     "execution_count": 9,
     "metadata": {},
     "output_type": "execute_result"
    }
   ],
   "source": [
    "response = requests.get(\"http://localhost:8000/post/1/feed\")\n",
    "pd.DataFrame(\n",
    "    json.loads(response.content.decode(\"utf-8\"))\n",
    ")"
   ]
  },
  {
   "cell_type": "code",
   "execution_count": 10,
   "id": "46beaa25-4da7-47ca-aff0-80753a22f547",
   "metadata": {},
   "outputs": [
    {
     "data": {
      "text/html": [
       "<div>\n",
       "<style scoped>\n",
       "    .dataframe tbody tr th:only-of-type {\n",
       "        vertical-align: middle;\n",
       "    }\n",
       "\n",
       "    .dataframe tbody tr th {\n",
       "        vertical-align: top;\n",
       "    }\n",
       "\n",
       "    .dataframe thead th {\n",
       "        text-align: right;\n",
       "    }\n",
       "</style>\n",
       "<table border=\"1\" class=\"dataframe\">\n",
       "  <thead>\n",
       "    <tr style=\"text-align: right;\">\n",
       "      <th></th>\n",
       "      <th>user_id</th>\n",
       "      <th>user</th>\n",
       "      <th>post_id</th>\n",
       "      <th>post</th>\n",
       "      <th>action</th>\n",
       "      <th>time</th>\n",
       "    </tr>\n",
       "  </thead>\n",
       "  <tbody>\n",
       "    <tr>\n",
       "      <th>0</th>\n",
       "      <td>108068</td>\n",
       "      <td>{'id': 108068, 'gender': 1, 'age': 16, 'countr...</td>\n",
       "      <td>1</td>\n",
       "      <td>{'id': 1, 'text': 'UK economy facing major ris...</td>\n",
       "      <td>like</td>\n",
       "      <td>2021-10-21T19:52:50</td>\n",
       "    </tr>\n",
       "  </tbody>\n",
       "</table>\n",
       "</div>"
      ],
      "text/plain": [
       "   user_id                                               user  post_id  \\\n",
       "0   108068  {'id': 108068, 'gender': 1, 'age': 16, 'countr...        1   \n",
       "\n",
       "                                                post action  \\\n",
       "0  {'id': 1, 'text': 'UK economy facing major ris...   like   \n",
       "\n",
       "                  time  \n",
       "0  2021-10-21T19:52:50  "
      ]
     },
     "execution_count": 10,
     "metadata": {},
     "output_type": "execute_result"
    }
   ],
   "source": [
    "response = requests.get(\"http://localhost:8000/post/1/feed?limit=1\")\n",
    "pd.DataFrame(\n",
    "    json.loads(response.content.decode(\"utf-8\"))\n",
    ")"
   ]
  },
  {
   "cell_type": "code",
   "execution_count": 11,
   "id": "36df48d5-cf7b-4f29-bdcb-b918de92d3ba",
   "metadata": {},
   "outputs": [
    {
     "data": {
      "text/plain": [
       "b'[]'"
      ]
     },
     "execution_count": 11,
     "metadata": {},
     "output_type": "execute_result"
    }
   ],
   "source": [
    "response = requests.get(\"http://localhost:8000/post/-1/feed\")\n",
    "response.content"
   ]
  },
  {
   "cell_type": "markdown",
   "id": "af994d14-bb36-4f2f-be56-c11280eedae2",
   "metadata": {},
   "source": [
    "## /post/recommendations/"
   ]
  },
  {
   "cell_type": "code",
   "execution_count": 12,
   "id": "5ca916ee-963f-40f2-8411-838d74e04397",
   "metadata": {},
   "outputs": [
    {
     "data": {
      "text/plain": [
       "[{'id': 4866,\n",
       "  'text': 'It could have been a morbidly fascinating look at the life of one of Americas most notorious serial killers, but sadly it doesnt even come close. Terrible editing, direction, bad acting, you name it. This movie is literally about 10 minutes of plot stretched into 100. The only redeeming quality is Bruce Davidson as the father, but thats not nearly enough to save this stinker. A 1 out of 10.',\n",
       "  'topic': 'movie'},\n",
       " {'id': 5127,\n",
       "  'text': 'Ive seen NSNA just after Ive seen all Roger Moore-films and I must say that it felt so good to see Connery again. He proves for all times that he is the one and only Bond.The film itself isnt really a masterpiece but it is really worth watching. The jokes sit much better here, the effects are funny and interesting, Connery is Connery and Brandauer is really a good villain. But von Sydow is just wasted and the score is not often good and there are a few scenes that seem pretty unnecessary.7/10 \\\\ 2.5/4 \\\\ 3+ (1+ - 6-)',\n",
       "  'topic': 'movie'},\n",
       " {'id': 6448,\n",
       "  'text': 'No, Im not joking around. If you ever, EVER, have the chance to see this movie see it. If you need chop off your arm to see it, see it. Its worth it.Fatty Drives The Bus is unlike any film youve ever seen. It takes trash cinema and elevates it to a work of art. While it contains poor shots, idiotic characters, bad dialogue, strange acting, and cinematography that belongs on public access in Iowa, it actually succeeds in its goal as a film. It strives to be the dumbest, strangest, most inane movie youve ever seen. And boy does it ever succeed.I will lay out the plot for those of you who worry about such things (the filmmakers obviously didnt), but really you neednt pay too much attention because the entire films plot is presented in a very long piece of text played before the opening credits. In any event, FDTB (as its admirers call it) is the story of a bus tour through Chicago, which is led by Satan. You see, Jesus is in town, and all the passengers on the bus are supposed to die, and all their souls would have gone to hell, except with Jesus in town, a lackey in hell calls off the job, and this angers Satan because, well he doesnt like looking like a fool in front of the guy, so he decides to get the people on the bus to sign over their souls to him directly, but hes a devil, so he needs to disguise himself, otherwise, whod go on a tour with him right, so he disguises himself as Roger and he gets on the bus, where the driver is never referred to by name, but he is kind of fat, so I guess hes Fatty. The bus (and the riders) are on a collision course with wackiness!Examples of some lunacy: The title repeats on the screen 3 times. I dont know why. A character appears on the bus in mid-trip without explanation or introduction, and occassionally sits next to the others, and they look at her like she doesnt belong. I dont know why. Two characters fall in love and exchange longing glances, that are really the same shots repeated over and over again. I dont know why. After Satan gives a minute long monologue about transforming into human form a title card flashes Satan is going to transform. I dont know why. One character is a woman who is very obviously a man in drag, and is referred to by other characters as the glamorous Bridget. I dont know why.If there was one good thing that came out of my internship at Troma last summer it was getting my own copy of Fatty Drives The Bus.',\n",
       "  'topic': 'movie'}]"
      ]
     },
     "execution_count": 12,
     "metadata": {},
     "output_type": "execute_result"
    }
   ],
   "source": [
    "response = requests.get(\"http://localhost:8000/post/recommendations/?id=10&limit=3\")\n",
    "json.loads(response.content.decode(\"utf-8\"))"
   ]
  }
 ],
 "metadata": {
  "kernelspec": {
   "display_name": "Python 3 (ipykernel)",
   "language": "python",
   "name": "python3"
  },
  "language_info": {
   "codemirror_mode": {
    "name": "ipython",
    "version": 3
   },
   "file_extension": ".py",
   "mimetype": "text/x-python",
   "name": "python",
   "nbconvert_exporter": "python",
   "pygments_lexer": "ipython3",
   "version": "3.10.6"
  }
 },
 "nbformat": 4,
 "nbformat_minor": 5
}
