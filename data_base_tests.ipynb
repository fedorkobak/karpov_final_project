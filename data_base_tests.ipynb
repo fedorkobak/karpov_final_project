{
 "cells": [
  {
   "cell_type": "code",
   "execution_count": 9,
   "id": "f6f30391-0a66-4ca6-a392-ad3347305b6a",
   "metadata": {},
   "outputs": [],
   "source": [
    "from sqlalchemy import func, desc\n",
    "from database import SessionLocal\n",
    "from table_user import User"
   ]
  },
  {
   "cell_type": "code",
   "execution_count": 16,
   "id": "3dd81b5a-4160-4d42-818a-b985cfd20056",
   "metadata": {},
   "outputs": [],
   "source": [
    "lst = (\n",
    "    SessionLocal().\n",
    "    query(User.country, User.os, func.count()).\n",
    "    filter(User.exp_group == 3).\n",
    "    group_by(User.country, User.os).\n",
    "    order_by(desc(func.count())).\n",
    "    having(func.count() > 100).\n",
    "    all()\n",
    ")"
   ]
  },
  {
   "cell_type": "code",
   "execution_count": 17,
   "id": "dd3834da-3ed7-4733-b58f-50e31494fdc8",
   "metadata": {},
   "outputs": [
    {
     "data": {
      "text/plain": [
       "[('Russia', 'Android', 18678),\n",
       " ('Russia', 'iOS', 10033),\n",
       " ('Ukraine', 'Android', 1078),\n",
       " ('Ukraine', 'iOS', 599),\n",
       " ('Belarus', 'Android', 425),\n",
       " ('Kazakhstan', 'Android', 412),\n",
       " ('Kazakhstan', 'iOS', 238),\n",
       " ('Belarus', 'iOS', 216),\n",
       " ('Finland', 'Android', 211),\n",
       " ('Turkey', 'Android', 208),\n",
       " ('Azerbaijan', 'Android', 206),\n",
       " ('Turkey', 'iOS', 125),\n",
       " ('Azerbaijan', 'iOS', 102)]"
      ]
     },
     "execution_count": 17,
     "metadata": {},
     "output_type": "execute_result"
    }
   ],
   "source": [
    "[u for u in lst]"
   ]
  },
  {
   "cell_type": "code",
   "execution_count": null,
   "id": "f17f6bd4-68e6-4323-8946-2d725a6ac85e",
   "metadata": {},
   "outputs": [],
   "source": [
    "from database import engine\n",
    "import pandas as pd"
   ]
  },
  {
   "cell_type": "code",
   "execution_count": null,
   "id": "ad443b10-41a3-4865-91a8-829c2f7fa286",
   "metadata": {},
   "outputs": [
    {
     "data": {
      "text/html": [
       "<div>\n",
       "<style scoped>\n",
       "    .dataframe tbody tr th:only-of-type {\n",
       "        vertical-align: middle;\n",
       "    }\n",
       "\n",
       "    .dataframe tbody tr th {\n",
       "        vertical-align: top;\n",
       "    }\n",
       "\n",
       "    .dataframe thead th {\n",
       "        text-align: right;\n",
       "    }\n",
       "</style>\n",
       "<table border=\"1\" class=\"dataframe\">\n",
       "  <thead>\n",
       "    <tr style=\"text-align: right;\">\n",
       "      <th></th>\n",
       "      <th>post_id</th>\n",
       "      <th>user_id</th>\n",
       "    </tr>\n",
       "  </thead>\n",
       "  <tbody>\n",
       "    <tr>\n",
       "      <th>0</th>\n",
       "      <td>1</td>\n",
       "      <td>218</td>\n",
       "    </tr>\n",
       "    <tr>\n",
       "      <th>1</th>\n",
       "      <td>1</td>\n",
       "      <td>258</td>\n",
       "    </tr>\n",
       "    <tr>\n",
       "      <th>2</th>\n",
       "      <td>1</td>\n",
       "      <td>465</td>\n",
       "    </tr>\n",
       "    <tr>\n",
       "      <th>3</th>\n",
       "      <td>1</td>\n",
       "      <td>670</td>\n",
       "    </tr>\n",
       "    <tr>\n",
       "      <th>4</th>\n",
       "      <td>1</td>\n",
       "      <td>703</td>\n",
       "    </tr>\n",
       "    <tr>\n",
       "      <th>...</th>\n",
       "      <td>...</td>\n",
       "      <td>...</td>\n",
       "    </tr>\n",
       "    <tr>\n",
       "      <th>8136615</th>\n",
       "      <td>7319</td>\n",
       "      <td>167160</td>\n",
       "    </tr>\n",
       "    <tr>\n",
       "      <th>8136616</th>\n",
       "      <td>7319</td>\n",
       "      <td>167172</td>\n",
       "    </tr>\n",
       "    <tr>\n",
       "      <th>8136617</th>\n",
       "      <td>7319</td>\n",
       "      <td>168402</td>\n",
       "    </tr>\n",
       "    <tr>\n",
       "      <th>8136618</th>\n",
       "      <td>7319</td>\n",
       "      <td>168446</td>\n",
       "    </tr>\n",
       "    <tr>\n",
       "      <th>8136619</th>\n",
       "      <td>7319</td>\n",
       "      <td>168509</td>\n",
       "    </tr>\n",
       "  </tbody>\n",
       "</table>\n",
       "<p>8136620 rows × 2 columns</p>\n",
       "</div>"
      ],
      "text/plain": [
       "         post_id  user_id\n",
       "0              1      218\n",
       "1              1      258\n",
       "2              1      465\n",
       "3              1      670\n",
       "4              1      703\n",
       "...          ...      ...\n",
       "8136615     7319   167160\n",
       "8136616     7319   167172\n",
       "8136617     7319   168402\n",
       "8136618     7319   168446\n",
       "8136619     7319   168509\n",
       "\n",
       "[8136620 rows x 2 columns]"
      ]
     },
     "execution_count": 5,
     "metadata": {},
     "output_type": "execute_result"
    }
   ],
   "source": [
    "liked_posts = pd.read_sql(\n",
    "    \"\"\"\n",
    "    SELECT DISTINCT post_id, user_id\n",
    "    FROM public.feed_data \n",
    "    WHERE action='like';\n",
    "    \"\"\",\n",
    "    con = engine\n",
    ")"
   ]
  }
 ],
 "metadata": {
  "kernelspec": {
   "display_name": "Python 3 (ipykernel)",
   "language": "python",
   "name": "python3"
  },
  "language_info": {
   "codemirror_mode": {
    "name": "ipython",
    "version": 3
   },
   "file_extension": ".py",
   "mimetype": "text/x-python",
   "name": "python",
   "nbconvert_exporter": "python",
   "pygments_lexer": "ipython3",
   "version": "3.10.12"
  }
 },
 "nbformat": 4,
 "nbformat_minor": 5
}
