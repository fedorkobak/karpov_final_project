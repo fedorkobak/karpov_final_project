{
 "cells": [
  {
   "cell_type": "code",
   "execution_count": 9,
   "id": "f6f30391-0a66-4ca6-a392-ad3347305b6a",
   "metadata": {},
   "outputs": [],
   "source": [
    "from sqlalchemy import func, desc\n",
    "from database import SessionLocal\n",
    "from table_user import User"
   ]
  },
  {
   "cell_type": "code",
   "execution_count": 16,
   "id": "3dd81b5a-4160-4d42-818a-b985cfd20056",
   "metadata": {},
   "outputs": [],
   "source": [
    "lst = (\n",
    "    SessionLocal().\n",
    "    query(User.country, User.os, func.count()).\n",
    "    filter(User.exp_group == 3).\n",
    "    group_by(User.country, User.os).\n",
    "    order_by(desc(func.count())).\n",
    "    having(func.count() > 100).\n",
    "    all()\n",
    ")"
   ]
  },
  {
   "cell_type": "code",
   "execution_count": 17,
   "id": "dd3834da-3ed7-4733-b58f-50e31494fdc8",
   "metadata": {},
   "outputs": [
    {
     "data": {
      "text/plain": [
       "[('Russia', 'Android', 18678),\n",
       " ('Russia', 'iOS', 10033),\n",
       " ('Ukraine', 'Android', 1078),\n",
       " ('Ukraine', 'iOS', 599),\n",
       " ('Belarus', 'Android', 425),\n",
       " ('Kazakhstan', 'Android', 412),\n",
       " ('Kazakhstan', 'iOS', 238),\n",
       " ('Belarus', 'iOS', 216),\n",
       " ('Finland', 'Android', 211),\n",
       " ('Turkey', 'Android', 208),\n",
       " ('Azerbaijan', 'Android', 206),\n",
       " ('Turkey', 'iOS', 125),\n",
       " ('Azerbaijan', 'iOS', 102)]"
      ]
     },
     "execution_count": 17,
     "metadata": {},
     "output_type": "execute_result"
    }
   ],
   "source": [
    "[u for u in lst]"
   ]
  }
 ],
 "metadata": {
  "kernelspec": {
   "display_name": "Python 3 (ipykernel)",
   "language": "python",
   "name": "python3"
  },
  "language_info": {
   "codemirror_mode": {
    "name": "ipython",
    "version": 3
   },
   "file_extension": ".py",
   "mimetype": "text/x-python",
   "name": "python",
   "nbconvert_exporter": "python",
   "pygments_lexer": "ipython3",
   "version": "3.10.6"
  }
 },
 "nbformat": 4,
 "nbformat_minor": 5
}
